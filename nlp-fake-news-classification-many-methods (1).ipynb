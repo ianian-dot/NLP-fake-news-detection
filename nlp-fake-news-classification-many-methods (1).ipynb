{
 "cells": [
  {
   "cell_type": "code",
   "execution_count": 1,
   "id": "41c4e13f",
   "metadata": {
    "_cell_guid": "b1076dfc-b9ad-4769-8c92-a6c4dae69d19",
    "_uuid": "8f2839f25d086af736a60e9eeb907d3b93b6e0e5",
    "execution": {
     "iopub.execute_input": "2023-10-09T14:23:56.176288Z",
     "iopub.status.busy": "2023-10-09T14:23:56.175535Z",
     "iopub.status.idle": "2023-10-09T14:23:58.042635Z",
     "shell.execute_reply": "2023-10-09T14:23:58.041606Z"
    },
    "papermill": {
     "duration": 1.893955,
     "end_time": "2023-10-09T14:23:58.044758",
     "exception": false,
     "start_time": "2023-10-09T14:23:56.150803",
     "status": "completed"
    },
    "tags": []
   },
   "outputs": [
    {
     "name": "stdout",
     "output_type": "stream",
     "text": [
      "/kaggle/input/fake-news-classification/WELFake_Dataset.csv\n"
     ]
    }
   ],
   "source": [
    "# This Python 3 environment comes with many helpful analytics libraries installed\n",
    "# It is defined by the kaggle/python Docker image: https://github.com/kaggle/docker-python\n",
    "# For example, here's several helpful packages to load\n",
    "\n",
    "import numpy as np # linear algebra\n",
    "import pandas as pd # data processing, CSV file I/O (e.g. pd.read_csv)\n",
    "import matplotlib.pyplot as plt\n",
    "import seaborn as sns\n",
    "\n",
    "# Input data files are available in the read-only \"../input/\" directory\n",
    "# For example, running this (by clicking run or pressing Shift+Enter) will list all files under the input directory\n",
    "\n",
    "import os\n",
    "for dirname, _, filenames in os.walk('/kaggle/input'):\n",
    "    for filename in filenames:\n",
    "        print(os.path.join(dirname, filename))\n",
    "\n",
    "# You can write up to 20GB to the current directory (/kaggle/working/) that gets preserved as output when you create a version using \"Save & Run All\" \n",
    "# You can also write temporary files to /kaggle/temp/, but they won't be saved outside of the current session"
   ]
  },
  {
   "cell_type": "markdown",
   "id": "df351848",
   "metadata": {
    "papermill": {
     "duration": 0.021119,
     "end_time": "2023-10-09T14:23:58.089175",
     "exception": false,
     "start_time": "2023-10-09T14:23:58.068056",
     "status": "completed"
    },
    "tags": []
   },
   "source": [
    "# Exploration \n",
    "\n",
    "## Read the data"
   ]
  },
  {
   "cell_type": "code",
   "execution_count": 2,
   "id": "bb8f8548",
   "metadata": {
    "execution": {
     "iopub.execute_input": "2023-10-09T14:23:58.137921Z",
     "iopub.status.busy": "2023-10-09T14:23:58.137164Z",
     "iopub.status.idle": "2023-10-09T14:24:04.996509Z",
     "shell.execute_reply": "2023-10-09T14:24:04.995321Z"
    },
    "papermill": {
     "duration": 6.887606,
     "end_time": "2023-10-09T14:24:04.999220",
     "exception": false,
     "start_time": "2023-10-09T14:23:58.111614",
     "status": "completed"
    },
    "tags": []
   },
   "outputs": [],
   "source": [
    "## Read the data\n",
    "data = pd.read_csv('/kaggle/input/fake-news-classification/WELFake_Dataset.csv', \n",
    "                  index_col=0)"
   ]
  },
  {
   "cell_type": "code",
   "execution_count": 3,
   "id": "7eb77915",
   "metadata": {
    "execution": {
     "iopub.execute_input": "2023-10-09T14:24:05.108114Z",
     "iopub.status.busy": "2023-10-09T14:24:05.107563Z",
     "iopub.status.idle": "2023-10-09T14:24:05.122506Z",
     "shell.execute_reply": "2023-10-09T14:24:05.121777Z"
    },
    "papermill": {
     "duration": 0.039696,
     "end_time": "2023-10-09T14:24:05.124445",
     "exception": false,
     "start_time": "2023-10-09T14:24:05.084749",
     "status": "completed"
    },
    "tags": []
   },
   "outputs": [
    {
     "data": {
      "text/html": [
       "<div>\n",
       "<style scoped>\n",
       "    .dataframe tbody tr th:only-of-type {\n",
       "        vertical-align: middle;\n",
       "    }\n",
       "\n",
       "    .dataframe tbody tr th {\n",
       "        vertical-align: top;\n",
       "    }\n",
       "\n",
       "    .dataframe thead th {\n",
       "        text-align: right;\n",
       "    }\n",
       "</style>\n",
       "<table border=\"1\" class=\"dataframe\">\n",
       "  <thead>\n",
       "    <tr style=\"text-align: right;\">\n",
       "      <th></th>\n",
       "      <th>title</th>\n",
       "      <th>text</th>\n",
       "      <th>label</th>\n",
       "    </tr>\n",
       "  </thead>\n",
       "  <tbody>\n",
       "    <tr>\n",
       "      <th>0</th>\n",
       "      <td>LAW ENFORCEMENT ON HIGH ALERT Following Threat...</td>\n",
       "      <td>No comment is expected from Barack Obama Membe...</td>\n",
       "      <td>1</td>\n",
       "    </tr>\n",
       "    <tr>\n",
       "      <th>1</th>\n",
       "      <td>NaN</td>\n",
       "      <td>Did they post their votes for Hillary already?</td>\n",
       "      <td>1</td>\n",
       "    </tr>\n",
       "    <tr>\n",
       "      <th>2</th>\n",
       "      <td>UNBELIEVABLE! OBAMA’S ATTORNEY GENERAL SAYS MO...</td>\n",
       "      <td>Now, most of the demonstrators gathered last ...</td>\n",
       "      <td>1</td>\n",
       "    </tr>\n",
       "    <tr>\n",
       "      <th>3</th>\n",
       "      <td>Bobby Jindal, raised Hindu, uses story of Chri...</td>\n",
       "      <td>A dozen politically active pastors came here f...</td>\n",
       "      <td>0</td>\n",
       "    </tr>\n",
       "    <tr>\n",
       "      <th>4</th>\n",
       "      <td>SATAN 2: Russia unvelis an image of its terrif...</td>\n",
       "      <td>The RS-28 Sarmat missile, dubbed Satan 2, will...</td>\n",
       "      <td>1</td>\n",
       "    </tr>\n",
       "  </tbody>\n",
       "</table>\n",
       "</div>"
      ],
      "text/plain": [
       "                                               title  \\\n",
       "0  LAW ENFORCEMENT ON HIGH ALERT Following Threat...   \n",
       "1                                                NaN   \n",
       "2  UNBELIEVABLE! OBAMA’S ATTORNEY GENERAL SAYS MO...   \n",
       "3  Bobby Jindal, raised Hindu, uses story of Chri...   \n",
       "4  SATAN 2: Russia unvelis an image of its terrif...   \n",
       "\n",
       "                                                text  label  \n",
       "0  No comment is expected from Barack Obama Membe...      1  \n",
       "1     Did they post their votes for Hillary already?      1  \n",
       "2   Now, most of the demonstrators gathered last ...      1  \n",
       "3  A dozen politically active pastors came here f...      0  \n",
       "4  The RS-28 Sarmat missile, dubbed Satan 2, will...      1  "
      ]
     },
     "execution_count": 3,
     "metadata": {},
     "output_type": "execute_result"
    }
   ],
   "source": [
    "## Check \n",
    "\n",
    "data.head()"
   ]
  },
  {
   "cell_type": "code",
   "execution_count": 4,
   "id": "803a1517",
   "metadata": {
    "execution": {
     "iopub.execute_input": "2023-10-09T14:24:05.171054Z",
     "iopub.status.busy": "2023-10-09T14:24:05.169836Z",
     "iopub.status.idle": "2023-10-09T14:24:05.176195Z",
     "shell.execute_reply": "2023-10-09T14:24:05.175170Z"
    },
    "papermill": {
     "duration": 0.031179,
     "end_time": "2023-10-09T14:24:05.178000",
     "exception": false,
     "start_time": "2023-10-09T14:24:05.146821",
     "status": "completed"
    },
    "tags": []
   },
   "outputs": [
    {
     "data": {
      "text/plain": [
       "(72134, 3)"
      ]
     },
     "execution_count": 4,
     "metadata": {},
     "output_type": "execute_result"
    }
   ],
   "source": [
    "## Shape of the data -- number of rows and columns \n",
    "data.shape"
   ]
  },
  {
   "cell_type": "markdown",
   "id": "ee033c8b",
   "metadata": {
    "papermill": {
     "duration": 0.021795,
     "end_time": "2023-10-09T14:24:05.222870",
     "exception": false,
     "start_time": "2023-10-09T14:24:05.201075",
     "status": "completed"
    },
    "tags": []
   },
   "source": [
    "We have **72,134** rows, as mentioned in the data card of the Kaggle page.\n",
    "\n",
    "* The preamble also mentions that there is about a half half split of real and fake news, with 35k real and 37k fake news. We can verify below"
   ]
  },
  {
   "cell_type": "code",
   "execution_count": 5,
   "id": "469cff26",
   "metadata": {
    "execution": {
     "iopub.execute_input": "2023-10-09T14:24:05.269921Z",
     "iopub.status.busy": "2023-10-09T14:24:05.269535Z",
     "iopub.status.idle": "2023-10-09T14:24:05.280083Z",
     "shell.execute_reply": "2023-10-09T14:24:05.279062Z"
    },
    "papermill": {
     "duration": 0.036546,
     "end_time": "2023-10-09T14:24:05.282103",
     "exception": false,
     "start_time": "2023-10-09T14:24:05.245557",
     "status": "completed"
    },
    "tags": []
   },
   "outputs": [
    {
     "data": {
      "text/plain": [
       "label\n",
       "1    37106\n",
       "0    35028\n",
       "Name: count, dtype: int64"
      ]
     },
     "execution_count": 5,
     "metadata": {},
     "output_type": "execute_result"
    }
   ],
   "source": [
    "data.label.value_counts()"
   ]
  },
  {
   "cell_type": "code",
   "execution_count": 6,
   "id": "487baf0d",
   "metadata": {
    "execution": {
     "iopub.execute_input": "2023-10-09T14:24:05.329091Z",
     "iopub.status.busy": "2023-10-09T14:24:05.328729Z",
     "iopub.status.idle": "2023-10-09T14:24:05.605051Z",
     "shell.execute_reply": "2023-10-09T14:24:05.603970Z"
    },
    "papermill": {
     "duration": 0.302083,
     "end_time": "2023-10-09T14:24:05.607192",
     "exception": false,
     "start_time": "2023-10-09T14:24:05.305109",
     "status": "completed"
    },
    "tags": []
   },
   "outputs": [
    {
     "data": {
      "image/png": "[encoded data removed]",
      "text/plain": [
       "<Figure size 640x480 with 1 Axes>"
      ]
     },
     "metadata": {},
     "output_type": "display_data"
    }
   ],
   "source": [
    "data.label.value_counts().plot(kind = 'bar', color = ['red','green'])\n",
    "plt.xlabel(\"Fake news\")\n",
    "plt.title(\"Distribution of fake news labels\")\n",
    "plt.show()"
   ]
  },
  {
   "cell_type": "markdown",
   "id": "9d6b394c",
   "metadata": {
    "papermill": {
     "duration": 0.02236,
     "end_time": "2023-10-09T14:24:05.652405",
     "exception": false,
     "start_time": "2023-10-09T14:24:05.630045",
     "status": "completed"
    },
    "tags": []
   },
   "source": [
    "## Missing data"
   ]
  },
  {
   "cell_type": "code",
   "execution_count": 7,
   "id": "584289cf",
   "metadata": {
    "execution": {
     "iopub.execute_input": "2023-10-09T14:24:05.699661Z",
     "iopub.status.busy": "2023-10-09T14:24:05.698739Z",
     "iopub.status.idle": "2023-10-09T14:24:05.724692Z",
     "shell.execute_reply": "2023-10-09T14:24:05.723570Z"
    },
    "papermill": {
     "duration": 0.051662,
     "end_time": "2023-10-09T14:24:05.726631",
     "exception": false,
     "start_time": "2023-10-09T14:24:05.674969",
     "status": "completed"
    },
    "tags": []
   },
   "outputs": [
    {
     "data": {
      "text/plain": [
       "title    558\n",
       "text      39\n",
       "label      0\n",
       "dtype: int64"
      ]
     },
     "execution_count": 7,
     "metadata": {},
     "output_type": "execute_result"
    }
   ],
   "source": [
    "data.isnull().sum()"
   ]
  },
  {
   "cell_type": "code",
   "execution_count": 8,
   "id": "7fa5d931",
   "metadata": {
    "execution": {
     "iopub.execute_input": "2023-10-09T14:24:05.774216Z",
     "iopub.status.busy": "2023-10-09T14:24:05.773602Z",
     "iopub.status.idle": "2023-10-09T14:24:05.805643Z",
     "shell.execute_reply": "2023-10-09T14:24:05.804876Z"
    },
    "papermill": {
     "duration": 0.058452,
     "end_time": "2023-10-09T14:24:05.807761",
     "exception": false,
     "start_time": "2023-10-09T14:24:05.749309",
     "status": "completed"
    },
    "tags": []
   },
   "outputs": [],
   "source": [
    "data = data.fillna(' ')"
   ]
  },
  {
   "cell_type": "code",
   "execution_count": 9,
   "id": "a7904b73",
   "metadata": {
    "execution": {
     "iopub.execute_input": "2023-10-09T14:24:05.856023Z",
     "iopub.status.busy": "2023-10-09T14:24:05.855384Z",
     "iopub.status.idle": "2023-10-09T14:24:05.880209Z",
     "shell.execute_reply": "2023-10-09T14:24:05.879423Z"
    },
    "papermill": {
     "duration": 0.051271,
     "end_time": "2023-10-09T14:24:05.882128",
     "exception": false,
     "start_time": "2023-10-09T14:24:05.830857",
     "status": "completed"
    },
    "tags": []
   },
   "outputs": [
    {
     "data": {
      "text/plain": [
       "title    0\n",
       "text     0\n",
       "label    0\n",
       "dtype: int64"
      ]
     },
     "execution_count": 9,
     "metadata": {},
     "output_type": "execute_result"
    }
   ],
   "source": [
    "## Check after replacing NA with empty\n",
    "data.isnull().sum()"
   ]
  },
  {
   "cell_type": "markdown",
   "id": "7da21794",
   "metadata": {
    "papermill": {
     "duration": 0.022562,
     "end_time": "2023-10-09T14:24:05.927617",
     "exception": false,
     "start_time": "2023-10-09T14:24:05.905055",
     "status": "completed"
    },
    "tags": []
   },
   "source": [
    "* We will replace the missing values with blanks, then merge the two columns (titles and text) so that we have as much data to work with as possible "
   ]
  },
  {
   "cell_type": "markdown",
   "id": "4571ca74",
   "metadata": {
    "papermill": {
     "duration": 0.022603,
     "end_time": "2023-10-09T14:24:05.973100",
     "exception": false,
     "start_time": "2023-10-09T14:24:05.950497",
     "status": "completed"
    },
    "tags": []
   },
   "source": [
    "# Step 2: Preprocessing"
   ]
  },
  {
   "cell_type": "markdown",
   "id": "26368861",
   "metadata": {
    "papermill": {
     "duration": 0.023248,
     "end_time": "2023-10-09T14:24:06.018867",
     "exception": false,
     "start_time": "2023-10-09T14:24:05.995619",
     "status": "completed"
    },
    "tags": []
   },
   "source": [
    "## Combining both text and title"
   ]
  },
  {
   "cell_type": "code",
   "execution_count": 10,
   "id": "65e6de75",
   "metadata": {
    "execution": {
     "iopub.execute_input": "2023-10-09T14:24:06.069237Z",
     "iopub.status.busy": "2023-10-09T14:24:06.068671Z",
     "iopub.status.idle": "2023-10-09T14:24:06.514476Z",
     "shell.execute_reply": "2023-10-09T14:24:06.513528Z"
    },
    "papermill": {
     "duration": 0.474068,
     "end_time": "2023-10-09T14:24:06.516371",
     "exception": false,
     "start_time": "2023-10-09T14:24:06.042303",
     "status": "completed"
    },
    "tags": []
   },
   "outputs": [
    {
     "name": "stdout",
     "output_type": "stream",
     "text": [
      "                                               title  \\\n",
      "0  LAW ENFORCEMENT ON HIGH ALERT Following Threat...   \n",
      "1                                                      \n",
      "2  UNBELIEVABLE! OBAMA’S ATTORNEY GENERAL SAYS MO...   \n",
      "3  Bobby Jindal, raised Hindu, uses story of Chri...   \n",
      "4  SATAN 2: Russia unvelis an image of its terrif...   \n",
      "\n",
      "                                                text  label  \\\n",
      "0  No comment is expected from Barack Obama Membe...      1   \n",
      "1     Did they post their votes for Hillary already?      1   \n",
      "2   Now, most of the demonstrators gathered last ...      1   \n",
      "3  A dozen politically active pastors came here f...      0   \n",
      "4  The RS-28 Sarmat missile, dubbed Satan 2, will...      1   \n",
      "\n",
      "                                           Full_text  \n",
      "0  LAW ENFORCEMENT ON HIGH ALERT Following Threat...  \n",
      "1     Did they post their votes for Hillary already?  \n",
      "2  UNBELIEVABLE! OBAMA’S ATTORNEY GENERAL SAYS MO...  \n",
      "3  Bobby Jindal, raised Hindu, uses story of Chri...  \n",
      "4  SATAN 2: Russia unvelis an image of its terrif...  \n"
     ]
    }
   ],
   "source": [
    "data['Full_text'] = data['title'] + data['text']\n",
    "\n",
    "## Check \n",
    "print(data.head())"
   ]
  },
  {
   "cell_type": "markdown",
   "id": "78eb94a7",
   "metadata": {
    "papermill": {
     "duration": 0.022926,
     "end_time": "2023-10-09T14:24:06.562563",
     "exception": false,
     "start_time": "2023-10-09T14:24:06.539637",
     "status": "completed"
    },
    "tags": []
   },
   "source": [
    "## Look at some examples of fake and real news "
   ]
  },
  {
   "cell_type": "markdown",
   "id": "3ed69005",
   "metadata": {
    "papermill": {
     "duration": 0.022916,
     "end_time": "2023-10-09T14:24:06.608680",
     "exception": false,
     "start_time": "2023-10-09T14:24:06.585764",
     "status": "completed"
    },
    "tags": []
   },
   "source": [
    "### Fake news examples "
   ]
  },
  {
   "cell_type": "code",
   "execution_count": 11,
   "id": "2ea60e59",
   "metadata": {
    "execution": {
     "iopub.execute_input": "2023-10-09T14:24:06.656938Z",
     "iopub.status.busy": "2023-10-09T14:24:06.656017Z",
     "iopub.status.idle": "2023-10-09T14:24:06.674936Z",
     "shell.execute_reply": "2023-10-09T14:24:06.673856Z"
    },
    "papermill": {
     "duration": 0.045174,
     "end_time": "2023-10-09T14:24:06.676928",
     "exception": false,
     "start_time": "2023-10-09T14:24:06.631754",
     "status": "completed"
    },
    "tags": []
   },
   "outputs": [
    {
     "data": {
      "text/plain": [
       "0        LAW ENFORCEMENT ON HIGH ALERT Following Threat...\n",
       "1           Did they post their votes for Hillary already?\n",
       "2        UNBELIEVABLE! OBAMA’S ATTORNEY GENERAL SAYS MO...\n",
       "4        SATAN 2: Russia unvelis an image of its terrif...\n",
       "5        About Time! Christian Group Sues Amazon and SP...\n",
       "                               ...                        \n",
       "72125    WOW! JILL STEIN’S ‘FIRESIDE CHAT’ Exposes Her ...\n",
       "72127    WIKILEAKS EMAIL SHOWS CLINTON FOUNDATION FUNDS...\n",
       "72128    JUDGE JEANINE SOUNDS FREE SPEECH ALARM: “They ...\n",
       "72130     WATCH: Giuliani Demands That Democrats Apolog...\n",
       "72133    Goldman Sachs Endorses Hillary Clinton For Pre...\n",
       "Name: Full_text, Length: 37106, dtype: object"
      ]
     },
     "execution_count": 11,
     "metadata": {},
     "output_type": "execute_result"
    }
   ],
   "source": [
    "data[data.label == 1].Full_text"
   ]
  },
  {
   "cell_type": "code",
   "execution_count": 12,
   "id": "fee5b3a9",
   "metadata": {
    "execution": {
     "iopub.execute_input": "2023-10-09T14:24:06.727229Z",
     "iopub.status.busy": "2023-10-09T14:24:06.726841Z",
     "iopub.status.idle": "2023-10-09T14:24:06.745188Z",
     "shell.execute_reply": "2023-10-09T14:24:06.744314Z"
    },
    "papermill": {
     "duration": 0.045594,
     "end_time": "2023-10-09T14:24:06.747277",
     "exception": false,
     "start_time": "2023-10-09T14:24:06.701683",
     "status": "completed"
    },
    "tags": []
   },
   "outputs": [
    {
     "name": "stdout",
     "output_type": "stream",
     "text": [
      "LAW ENFORCEMENT ON HIGH ALERT Following Threats Against Cops And Whites On 9-11By #BlackLivesMatter And #FYF911 Terrorists [VIDEO]No comment is expected from Barack Obama Members of the #FYF911 or #FukYoFlag and #BlackLivesMatter movements called for the lynching and hanging of white people and cops. They encouraged others on a radio show Tuesday night to  turn the tide  and kill white people and cops to send a message about the killing of black people in America.One of the F***YoFlag organizers is called  Sunshine.  She has a radio blog show hosted from Texas called,  Sunshine s F***ing Opinion Radio Show. A snapshot of her #FYF911 @LOLatWhiteFear Twitter page at 9:53 p.m. shows that she was urging supporters to  Call now!! #fyf911 tonight we continue to dismantle the illusion of white Below is a SNAPSHOT Twitter Radio Call Invite   #FYF911The radio show aired at 10:00 p.m. eastern standard time.During the show, callers clearly call for  lynching  and  killing  of white people.A 2:39 \n"
     ]
    }
   ],
   "source": [
    "## First thousand characters\n",
    "print(data[data.label == 1].Full_text[0][0:1000])"
   ]
  },
  {
   "cell_type": "code",
   "execution_count": 13,
   "id": "81402488",
   "metadata": {
    "execution": {
     "iopub.execute_input": "2023-10-09T14:24:06.796471Z",
     "iopub.status.busy": "2023-10-09T14:24:06.795279Z",
     "iopub.status.idle": "2023-10-09T14:24:06.812698Z",
     "shell.execute_reply": "2023-10-09T14:24:06.811589Z"
    },
    "papermill": {
     "duration": 0.044251,
     "end_time": "2023-10-09T14:24:06.814950",
     "exception": false,
     "start_time": "2023-10-09T14:24:06.770699",
     "status": "completed"
    },
    "tags": []
   },
   "outputs": [
    {
     "name": "stdout",
     "output_type": "stream",
     "text": [
      " Did they post their votes for Hillary already?\n"
     ]
    }
   ],
   "source": [
    "## First thousand characters\n",
    "print(data[data.label == 1].Full_text[1][0:1000])"
   ]
  },
  {
   "cell_type": "code",
   "execution_count": 14,
   "id": "3fece9a5",
   "metadata": {
    "execution": {
     "iopub.execute_input": "2023-10-09T14:24:06.864610Z",
     "iopub.status.busy": "2023-10-09T14:24:06.863843Z",
     "iopub.status.idle": "2023-10-09T14:24:06.881019Z",
     "shell.execute_reply": "2023-10-09T14:24:06.879717Z"
    },
    "papermill": {
     "duration": 0.044731,
     "end_time": "2023-10-09T14:24:06.883271",
     "exception": false,
     "start_time": "2023-10-09T14:24:06.838540",
     "status": "completed"
    },
    "tags": []
   },
   "outputs": [
    {
     "name": "stdout",
     "output_type": "stream",
     "text": [
      "UNBELIEVABLE! OBAMA’S ATTORNEY GENERAL SAYS MOST CHARLOTTE RIOTERS WERE “PEACEFUL” PROTESTERS…In Her Home State Of North Carolina [VIDEO] Now, most of the demonstrators gathered last night were exercising their constitutional and protected right to peaceful protest in order to raise issues and create change.    Loretta Lynch aka Eric Holder in a skirt\n"
     ]
    }
   ],
   "source": [
    "## First thousand characters\n",
    "print(data[data.label == 1].Full_text[2][0:1000])"
   ]
  },
  {
   "cell_type": "markdown",
   "id": "e06ee44f",
   "metadata": {
    "papermill": {
     "duration": 0.02301,
     "end_time": "2023-10-09T14:24:06.929808",
     "exception": false,
     "start_time": "2023-10-09T14:24:06.906798",
     "status": "completed"
    },
    "tags": []
   },
   "source": [
    "### Real news examples"
   ]
  },
  {
   "cell_type": "code",
   "execution_count": 15,
   "id": "9d3a13ae",
   "metadata": {
    "execution": {
     "iopub.execute_input": "2023-10-09T14:24:06.978082Z",
     "iopub.status.busy": "2023-10-09T14:24:06.977673Z",
     "iopub.status.idle": "2023-10-09T14:24:06.994173Z",
     "shell.execute_reply": "2023-10-09T14:24:06.992822Z"
    },
    "papermill": {
     "duration": 0.042849,
     "end_time": "2023-10-09T14:24:06.996129",
     "exception": false,
     "start_time": "2023-10-09T14:24:06.953280",
     "status": "completed"
    },
    "tags": []
   },
   "outputs": [
    {
     "name": "stdout",
     "output_type": "stream",
     "text": [
      "3        Bobby Jindal, raised Hindu, uses story of Chri...\n",
      "11       May Brexit offer would hurt, cost EU citizens ...\n",
      "12       Schumer calls on Trump to appoint official to ...\n",
      "14       No Change Expected for ESPN Political Agenda D...\n",
      "15       Billionaire Odebrecht in Brazil scandal releas...\n",
      "                               ...                        \n",
      "72124    An Unlikely Contender Rises in France as the A...\n",
      "72126    Determined to kill: Can tough gun laws end mas...\n",
      "72129    Russians steal research on Trump in hack of U....\n",
      "72131    Migrants Refuse To Leave Train At Refugee Camp...\n",
      "72132    Trump tussle gives unpopular Mexican leader mu...\n",
      "Name: Full_text, Length: 35028, dtype: object\n"
     ]
    }
   ],
   "source": [
    "## First thousand characters\n",
    "print(data[data.label == 0].Full_text)"
   ]
  },
  {
   "cell_type": "code",
   "execution_count": 16,
   "id": "7f72000a",
   "metadata": {
    "execution": {
     "iopub.execute_input": "2023-10-09T14:24:07.046205Z",
     "iopub.status.busy": "2023-10-09T14:24:07.045048Z",
     "iopub.status.idle": "2023-10-09T14:24:07.062822Z",
     "shell.execute_reply": "2023-10-09T14:24:07.061532Z"
    },
    "papermill": {
     "duration": 0.044763,
     "end_time": "2023-10-09T14:24:07.064751",
     "exception": false,
     "start_time": "2023-10-09T14:24:07.019988",
     "status": "completed"
    },
    "tags": []
   },
   "outputs": [
    {
     "name": "stdout",
     "output_type": "stream",
     "text": [
      "Bobby Jindal, raised Hindu, uses story of Christian conversion to woo evangelicals for potential 2016 bidA dozen politically active pastors came here for a private dinner Friday night to hear a conversion story unique in the context of presidential politics: how Louisiana Gov. Bobby Jindal traveled from Hinduism to Protestant Christianity and, ultimately, became what he calls an “evangelical Catholic.”\n",
      "\n",
      "Over two hours, Jindal, 42, recalled talking with a girl in high school who wanted to “save my soul,” reading the Bible in a closet so his parents would not see him and feeling a stir while watching a movie during his senior year that depicted Jesus on the cross.\n",
      "\n",
      "“I was struck, and struck hard,” Jindal told the pastors. “This was the Son of God, and He had died for our sins.”\n",
      "\n",
      "Jindal’s session with the Christian clergy, who lead congregations in the early presidential battleground states of Iowa and South Carolina, was part of a behind-the-scenes effort by the Louisiana governor to fin\n"
     ]
    }
   ],
   "source": [
    "print(data[data.label == 0].Full_text[3][0:1000])"
   ]
  },
  {
   "cell_type": "code",
   "execution_count": 17,
   "id": "21704f11",
   "metadata": {
    "execution": {
     "iopub.execute_input": "2023-10-09T14:24:07.114610Z",
     "iopub.status.busy": "2023-10-09T14:24:07.113954Z",
     "iopub.status.idle": "2023-10-09T14:24:07.130617Z",
     "shell.execute_reply": "2023-10-09T14:24:07.129369Z"
    },
    "papermill": {
     "duration": 0.04364,
     "end_time": "2023-10-09T14:24:07.132654",
     "exception": false,
     "start_time": "2023-10-09T14:24:07.089014",
     "status": "completed"
    },
    "tags": []
   },
   "outputs": [
    {
     "name": "stdout",
     "output_type": "stream",
     "text": [
      "May Brexit offer would hurt, cost EU citizens - EU parliamentBRUSSELS (Reuters) - British Prime Minister Theresa May s offer of  settled status  for EU residents is flawed and will leave them with fewer rights after Brexit, the European Parliament s Brexit coordinator said on Tuesday. A family of five could face a bill of 360 pounds to acquire the new status, Guy Verhofstadt told May s Brexit Secretary David Davis in a letter seen by Reuters    a very significant amount for a family on low income . Listing three other concerns for the EU legislature, which must approve any treaty on the March 2019 exit, Verhofstadt told Davis:  Under your proposals, EU citizens will definitely notice a deterioration of their status as a result of Brexit. And the Parliament s aim all along has been that EU citizens, and UK citizens in the EU-27, should notice no difference.  Verhofstadt, a former Belgian prime minister, wrote in response to Davis, who had written to him after Parliament complained last \n"
     ]
    }
   ],
   "source": [
    "print(data[data.label == 0].Full_text[11][0:1000])"
   ]
  },
  {
   "cell_type": "markdown",
   "id": "6be9826a",
   "metadata": {
    "papermill": {
     "duration": 0.023102,
     "end_time": "2023-10-09T14:24:07.179607",
     "exception": false,
     "start_time": "2023-10-09T14:24:07.156505",
     "status": "completed"
    },
    "tags": []
   },
   "source": [
    "## CLEANING: Lowercasing + remove stop words + remove punctuation"
   ]
  },
  {
   "cell_type": "code",
   "execution_count": 18,
   "id": "4a4997b4",
   "metadata": {
    "execution": {
     "iopub.execute_input": "2023-10-09T14:24:07.230632Z",
     "iopub.status.busy": "2023-10-09T14:24:07.229858Z",
     "iopub.status.idle": "2023-10-09T14:24:21.164089Z",
     "shell.execute_reply": "2023-10-09T14:24:21.163193Z"
    },
    "papermill": {
     "duration": 13.961759,
     "end_time": "2023-10-09T14:24:21.166312",
     "exception": false,
     "start_time": "2023-10-09T14:24:07.204553",
     "status": "completed"
    },
    "tags": []
   },
   "outputs": [
    {
     "name": "stdout",
     "output_type": "stream",
     "text": [
      "[nltk_data] Downloading package stopwords to /usr/share/nltk_data...\n",
      "[nltk_data]   Package stopwords is already up-to-date!\n"
     ]
    }
   ],
   "source": [
    "import spacy\n",
    "from spacy.lang.en import English\n",
    "from nltk.corpus import stopwords\n",
    "import nltk\n",
    "import time\n",
    "\n",
    "## download the dictionary for stopwords\n",
    "nltk.download('stopwords')\n",
    "\n",
    "## get the set of stopwords \n",
    "stop_words_set = set(stopwords.words('english'))\n",
    "\n",
    "## Load English tokenizer from spacy\n",
    "nlp = English()\n",
    "tokenizer = nlp.tokenizer ## make instance \n",
    "\n"
   ]
  },
  {
   "cell_type": "code",
   "execution_count": 19,
   "id": "3a56886e",
   "metadata": {
    "execution": {
     "iopub.execute_input": "2023-10-09T14:24:21.216721Z",
     "iopub.status.busy": "2023-10-09T14:24:21.216072Z",
     "iopub.status.idle": "2023-10-09T14:26:53.688160Z",
     "shell.execute_reply": "2023-10-09T14:26:53.687065Z"
    },
    "papermill": {
     "duration": 152.523493,
     "end_time": "2023-10-09T14:26:53.713624",
     "exception": false,
     "start_time": "2023-10-09T14:24:21.190131",
     "status": "completed"
    },
    "tags": []
   },
   "outputs": [
    {
     "name": "stdout",
     "output_type": "stream",
     "text": [
      "Time to clean  152.4649932384491\n"
     ]
    }
   ],
   "source": [
    "## Create function to clean text -- lowercase, remove non alphanumeric, remove stop words\n",
    "def optimized_preprocess(texts): ## Takes in a list of texts, i.e. the entire corpus\n",
    "    result = []\n",
    "    \n",
    "    # Tokenize using spaCy's tokenizer\n",
    "    for text in texts:\n",
    "        tokens = [token.text.lower() for token in tokenizer(text) if token.text.isalpha() and token.text.lower() not in stop_words_set]\n",
    "        result.append(\" \".join(tokens))\n",
    "    \n",
    "    return result\n",
    "\n",
    "# Process data\n",
    "s = time.time()\n",
    "preprocessed_texts = optimized_preprocess(data.Full_text)\n",
    "print('Time to clean ', time.time() - s)"
   ]
  },
  {
   "cell_type": "code",
   "execution_count": 20,
   "id": "74257c86",
   "metadata": {
    "execution": {
     "iopub.execute_input": "2023-10-09T14:26:53.766207Z",
     "iopub.status.busy": "2023-10-09T14:26:53.765798Z",
     "iopub.status.idle": "2023-10-09T14:26:53.785664Z",
     "shell.execute_reply": "2023-10-09T14:26:53.784511Z"
    },
    "papermill": {
     "duration": 0.0493,
     "end_time": "2023-10-09T14:26:53.787625",
     "exception": false,
     "start_time": "2023-10-09T14:26:53.738325",
     "status": "completed"
    },
    "tags": []
   },
   "outputs": [],
   "source": [
    "## Save a new column in the dataset\n",
    "data['Full_text_cleaned'] = preprocessed_texts"
   ]
  },
  {
   "cell_type": "code",
   "execution_count": 21,
   "id": "084204f4",
   "metadata": {
    "execution": {
     "iopub.execute_input": "2023-10-09T14:26:53.837967Z",
     "iopub.status.busy": "2023-10-09T14:26:53.837238Z",
     "iopub.status.idle": "2023-10-09T14:26:53.847362Z",
     "shell.execute_reply": "2023-10-09T14:26:53.846076Z"
    },
    "papermill": {
     "duration": 0.03764,
     "end_time": "2023-10-09T14:26:53.849745",
     "exception": false,
     "start_time": "2023-10-09T14:26:53.812105",
     "status": "completed"
    },
    "tags": []
   },
   "outputs": [
    {
     "name": "stdout",
     "output_type": "stream",
     "text": [
      "0    law enforcement high alert following threats c...\n",
      "1                           post votes hillary already\n",
      "2    unbelievable obama attorney general says charl...\n",
      "3    bobby jindal raised hindu uses story christian...\n",
      "4    satan russia unvelis image terrifying new supe...\n",
      "Name: Full_text_cleaned, dtype: object\n",
      "gop senator smacked punchable alt right nazi internetthe punchable alt right nazi internet got thorough beatdown ben sasse r twitter epic tweetstorm richard spencer alt right leader become human punching bag got racism smacked republican senator thursday white nationalist tweeted goober conservatives blame russia racial divisions united states spencer responding tweet sasse sent wednesday ben sasse shared article regarding james lankford r explained russian internet trolls helped fuel divisions controversy donald trump ignited nfl athletes choose kneel rather stand national anthem protest racial inequality police brutality one loves american vs american fighting putin intel agencies stoke sides every ben sasse september responded writing minds goober conservatives russians blame racial divisions minds goober conservatives russians blame racial divisions richard spencer september tore spencer calling clown one brown shirt pajama boy nazis oh let goobers nongoobers agree racists like bla\n"
     ]
    }
   ],
   "source": [
    "## Check cleaned text \n",
    "print(data.Full_text_cleaned.head())\n",
    "\n",
    "## Read some in full\n",
    "print(data.Full_text_cleaned[10][0:1000])"
   ]
  },
  {
   "cell_type": "markdown",
   "id": "8d459bc9",
   "metadata": {
    "papermill": {
     "duration": 0.024489,
     "end_time": "2023-10-09T14:26:53.900239",
     "exception": false,
     "start_time": "2023-10-09T14:26:53.875750",
     "status": "completed"
    },
    "tags": []
   },
   "source": [
    "## Explore some differences between real and fake texts\n",
    "\n",
    "### Comparing choice of vocabulary\n",
    "\n",
    "Let us count the word frequency used in real and fake news, and compare the top choices of vocabulary across the two, to see if anything interesting emerges. "
   ]
  },
  {
   "cell_type": "code",
   "execution_count": 22,
   "id": "ffd7d0c4",
   "metadata": {
    "execution": {
     "iopub.execute_input": "2023-10-09T14:26:53.950755Z",
     "iopub.status.busy": "2023-10-09T14:26:53.950367Z",
     "iopub.status.idle": "2023-10-09T14:26:53.983423Z",
     "shell.execute_reply": "2023-10-09T14:26:53.982268Z"
    },
    "papermill": {
     "duration": 0.060542,
     "end_time": "2023-10-09T14:26:53.985783",
     "exception": false,
     "start_time": "2023-10-09T14:26:53.925241",
     "status": "completed"
    },
    "tags": []
   },
   "outputs": [],
   "source": [
    "from collections import Counter ## for counting words \n",
    "\n",
    "## Get real and fake subsets \n",
    "fake_text = data[data.label == 1][\"Full_text_cleaned\"]\n",
    "real_text = data[data.label == 0][\"Full_text_cleaned\"]"
   ]
  },
  {
   "cell_type": "code",
   "execution_count": 23,
   "id": "cd616e74",
   "metadata": {
    "execution": {
     "iopub.execute_input": "2023-10-09T14:26:54.036077Z",
     "iopub.status.busy": "2023-10-09T14:26:54.035662Z",
     "iopub.status.idle": "2023-10-09T14:27:01.505927Z",
     "shell.execute_reply": "2023-10-09T14:27:01.504968Z"
    },
    "papermill": {
     "duration": 7.497739,
     "end_time": "2023-10-09T14:27:01.508286",
     "exception": false,
     "start_time": "2023-10-09T14:26:54.010547",
     "status": "completed"
    },
    "tags": []
   },
   "outputs": [],
   "source": [
    "## Entire vocabulary \n",
    "vocab_set = set((\" \".join(data.Full_text_cleaned)).split())\n",
    "non_unique_set = (\" \".join(data.Full_text_cleaned)).split()"
   ]
  },
  {
   "cell_type": "code",
   "execution_count": 24,
   "id": "30e561c9",
   "metadata": {
    "execution": {
     "iopub.execute_input": "2023-10-09T14:27:01.557235Z",
     "iopub.status.busy": "2023-10-09T14:27:01.556870Z",
     "iopub.status.idle": "2023-10-09T14:27:01.563207Z",
     "shell.execute_reply": "2023-10-09T14:27:01.561957Z"
    },
    "papermill": {
     "duration": 0.033204,
     "end_time": "2023-10-09T14:27:01.565240",
     "exception": false,
     "start_time": "2023-10-09T14:27:01.532036",
     "status": "completed"
    },
    "tags": []
   },
   "outputs": [
    {
     "name": "stdout",
     "output_type": "stream",
     "text": [
      "Vocab size :  238524\n",
      "Entire word count :  22156082\n",
      "Ratio of word count to vocab size :  92.88827120122085\n"
     ]
    }
   ],
   "source": [
    "## Get sizes of vocab, entire corpus, ratio \n",
    "print('Vocab size : ', len(vocab_set))\n",
    "print('Entire word count : ', len(non_unique_set))\n",
    "print('Ratio of word count to vocab size : ', len(non_unique_set)/len(vocab_set) )"
   ]
  },
  {
   "cell_type": "markdown",
   "id": "85910245",
   "metadata": {
    "papermill": {
     "duration": 0.023177,
     "end_time": "2023-10-09T14:27:01.611981",
     "exception": false,
     "start_time": "2023-10-09T14:27:01.588804",
     "status": "completed"
    },
    "tags": []
   },
   "source": [
    "On average, each word is used about 92 times. \n",
    "* Vocab size ~ 200 k\n",
    "* Entire corpus word count ~ 22 million"
   ]
  },
  {
   "cell_type": "code",
   "execution_count": 25,
   "id": "e962bc75",
   "metadata": {
    "execution": {
     "iopub.execute_input": "2023-10-09T14:27:01.661656Z",
     "iopub.status.busy": "2023-10-09T14:27:01.661305Z",
     "iopub.status.idle": "2023-10-09T14:27:01.667243Z",
     "shell.execute_reply": "2023-10-09T14:27:01.666580Z"
    },
    "papermill": {
     "duration": 0.033887,
     "end_time": "2023-10-09T14:27:01.669184",
     "exception": false,
     "start_time": "2023-10-09T14:27:01.635297",
     "status": "completed"
    },
    "tags": []
   },
   "outputs": [
    {
     "name": "stdout",
     "output_type": "stream",
     "text": [
      "0    law enforcement high alert following threats c...\n",
      "1                           post votes hillary already\n",
      "2    unbelievable obama attorney general says charl...\n",
      "4    satan russia unvelis image terrifying new supe...\n",
      "5    time christian group sues amazon splc designat...\n",
      "Name: Full_text_cleaned, dtype: object\n",
      "3     bobby jindal raised hindu uses story christian...\n",
      "11    may brexit offer would hurt cost eu citizens e...\n",
      "12    schumer calls trump appoint official oversee p...\n",
      "14    change expected espn political agenda despite ...\n",
      "15    billionaire odebrecht brazil scandal released ...\n",
      "Name: Full_text_cleaned, dtype: object\n"
     ]
    }
   ],
   "source": [
    "## Check\n",
    "print(fake_text.head())\n",
    "print(real_text.head())"
   ]
  },
  {
   "cell_type": "code",
   "execution_count": 26,
   "id": "edd295cd",
   "metadata": {
    "execution": {
     "iopub.execute_input": "2023-10-09T14:27:01.720846Z",
     "iopub.status.busy": "2023-10-09T14:27:01.720495Z",
     "iopub.status.idle": "2023-10-09T14:27:08.411700Z",
     "shell.execute_reply": "2023-10-09T14:27:08.410355Z"
    },
    "papermill": {
     "duration": 6.718376,
     "end_time": "2023-10-09T14:27:08.413755",
     "exception": false,
     "start_time": "2023-10-09T14:27:01.695379",
     "status": "completed"
    },
    "tags": []
   },
   "outputs": [
    {
     "name": "stdout",
     "output_type": "stream",
     "text": [
      "78106917\n",
      "86186099\n"
     ]
    }
   ],
   "source": [
    "## COUNT THE WORDS\n",
    "\n",
    "## First, turn a list of lists into just one list -- i.e. join all documents together into\n",
    "## one giant document/ string\n",
    "fake_text_giant_string = \" \".join(fake_text)\n",
    "print(len(fake_text_giant_string))\n",
    "real_text_giant_string = \" \".join(real_text)\n",
    "print(len(real_text_giant_string))\n",
    "\n",
    "\n",
    "## Now, update to the Counter object to begin counting\n",
    "## Rmb to split to only feed words\n",
    "fake_words_counter = Counter(fake_text_giant_string.split())\n",
    "real_words_counter = Counter(real_text_giant_string.split())\n"
   ]
  },
  {
   "cell_type": "markdown",
   "id": "a2faf45b",
   "metadata": {
    "papermill": {
     "duration": 0.023465,
     "end_time": "2023-10-09T14:27:08.461802",
     "exception": false,
     "start_time": "2023-10-09T14:27:08.438337",
     "status": "completed"
    },
    "tags": []
   },
   "source": [
    "## Counting the words used in real and fake news"
   ]
  },
  {
   "cell_type": "code",
   "execution_count": 27,
   "id": "410a10e2",
   "metadata": {
    "execution": {
     "iopub.execute_input": "2023-10-09T14:27:08.512099Z",
     "iopub.status.busy": "2023-10-09T14:27:08.511477Z",
     "iopub.status.idle": "2023-10-09T14:27:08.578268Z",
     "shell.execute_reply": "2023-10-09T14:27:08.577324Z"
    },
    "papermill": {
     "duration": 0.094845,
     "end_time": "2023-10-09T14:27:08.580545",
     "exception": false,
     "start_time": "2023-10-09T14:27:08.485700",
     "status": "completed"
    },
    "tags": []
   },
   "outputs": [
    {
     "name": "stdout",
     "output_type": "stream",
     "text": [
      "<class 'collections.Counter'>\n",
      "[('trump', 116179), ('said', 49898), ('people', 49137), ('clinton', 47358), ('one', 46387), ('would', 44259), ('president', 39690), ('us', 35508), ('hillary', 34678), ('like', 32200)]\n",
      "[('said', 184657), ('trump', 115351), ('would', 64111), ('president', 51695), ('new', 49311), ('one', 43012), ('people', 41983), ('state', 39740), ('also', 36630), ('states', 31833)]\n"
     ]
    }
   ],
   "source": [
    "## See results\n",
    "print(type(fake_words_counter))\n",
    "print(fake_words_counter.most_common(10)) ## Most common words for fake news\n",
    "print(real_words_counter.most_common(10)) ## Most common words for real news\n"
   ]
  },
  {
   "cell_type": "code",
   "execution_count": 28,
   "id": "4982fd36",
   "metadata": {
    "execution": {
     "iopub.execute_input": "2023-10-09T14:27:08.631438Z",
     "iopub.status.busy": "2023-10-09T14:27:08.631052Z",
     "iopub.status.idle": "2023-10-09T14:27:09.871402Z",
     "shell.execute_reply": "2023-10-09T14:27:09.870443Z"
    },
    "papermill": {
     "duration": 1.268642,
     "end_time": "2023-10-09T14:27:09.873410",
     "exception": false,
     "start_time": "2023-10-09T14:27:08.604768",
     "status": "completed"
    },
    "tags": []
   },
   "outputs": [
    {
     "data": {
      "image/png": "[encoded data removed]",
      "text/plain": [
       "<Figure size 640x480 with 2 Axes>"
      ]
     },
     "metadata": {},
     "output_type": "display_data"
    }
   ],
   "source": [
    "## Visualise the top words \n",
    "\n",
    "fake_top_10 = fake_words_counter.most_common(10)\n",
    "x,y = zip(*fake_top_10)\n",
    "\n",
    "true_top_10 = real_words_counter.most_common(10)\n",
    "x2,y2 = zip(*true_top_10)\n",
    "\n",
    "## Plot\n",
    "# Plotting fake data\n",
    "plt.subplot(1, 2, 1)  # (nrows, ncols, index)\n",
    "plt.bar(x, y, color='red')\n",
    "plt.title('Top 10 words in Fake Texts')\n",
    "plt.xticks(rotation=70)\n",
    "plt.ylabel('Counts')\n",
    "\n",
    "# Plotting real data\n",
    "plt.subplot(1, 2, 2)\n",
    "plt.bar(x2, y2, color='blue')\n",
    "plt.title('Top 10 words in Real Texts')\n",
    "plt.xticks(rotation=70)\n",
    "plt.ylabel('Counts')\n",
    "\n",
    "plt.tight_layout()\n",
    "plt.show()"
   ]
  },
  {
   "cell_type": "markdown",
   "id": "ebc2b95e",
   "metadata": {
    "execution": {
     "iopub.status.busy": "2023-10-03T09:58:55.867638Z",
     "iopub.status.idle": "2023-10-03T09:58:55.868377Z",
     "shell.execute_reply": "2023-10-03T09:58:55.868138Z",
     "shell.execute_reply.started": "2023-10-03T09:58:55.868114Z"
    },
    "papermill": {
     "duration": 0.024522,
     "end_time": "2023-10-09T14:27:09.922559",
     "exception": false,
     "start_time": "2023-10-09T14:27:09.898037",
     "status": "completed"
    },
    "tags": []
   },
   "source": [
    "### Word clouds"
   ]
  },
  {
   "cell_type": "code",
   "execution_count": 29,
   "id": "cd41e9dd",
   "metadata": {
    "execution": {
     "iopub.execute_input": "2023-10-09T14:27:09.974444Z",
     "iopub.status.busy": "2023-10-09T14:27:09.973671Z",
     "iopub.status.idle": "2023-10-09T14:27:10.739930Z",
     "shell.execute_reply": "2023-10-09T14:27:10.739163Z"
    },
    "papermill": {
     "duration": 0.794433,
     "end_time": "2023-10-09T14:27:10.741696",
     "exception": false,
     "start_time": "2023-10-09T14:27:09.947263",
     "status": "completed"
    },
    "tags": []
   },
   "outputs": [
    {
     "data": {
      "image/png": "[encoded data removed]",
      "text/plain": [
       "<Figure size 640x480 with 1 Axes>"
      ]
     },
     "metadata": {},
     "output_type": "display_data"
    }
   ],
   "source": [
    "from wordcloud import WordCloud\n",
    "\n",
    "fake_WC = WordCloud(background_color = 'white').generate_from_frequencies(fake_words_counter)\n",
    "\n",
    "plt.imshow(fake_WC, interpolation = 'bilinear')\n",
    "plt.title('Word Cloud for Fake Texts')\n",
    "plt.show()"
   ]
  },
  {
   "cell_type": "code",
   "execution_count": 30,
   "id": "6632dac1",
   "metadata": {
    "execution": {
     "iopub.execute_input": "2023-10-09T14:27:10.799721Z",
     "iopub.status.busy": "2023-10-09T14:27:10.799026Z",
     "iopub.status.idle": "2023-10-09T14:27:11.541399Z",
     "shell.execute_reply": "2023-10-09T14:27:11.540232Z"
    },
    "papermill": {
     "duration": 0.774312,
     "end_time": "2023-10-09T14:27:11.544077",
     "exception": false,
     "start_time": "2023-10-09T14:27:10.769765",
     "status": "completed"
    },
    "tags": []
   },
   "outputs": [
    {
     "data": {
      "image/png": "[encoded data removed]",
      "text/plain": [
       "<Figure size 640x480 with 1 Axes>"
      ]
     },
     "metadata": {},
     "output_type": "display_data"
    }
   ],
   "source": [
    "real_WC = WordCloud(background_color = 'white').generate_from_frequencies(real_words_counter)\n",
    "\n",
    "plt.imshow(real_WC, interpolation = 'bilinear')\n",
    "plt.title('Word Cloud for Real Texts')\n",
    "plt.show()"
   ]
  },
  {
   "cell_type": "markdown",
   "id": "2f656d9c",
   "metadata": {
    "papermill": {
     "duration": 0.030805,
     "end_time": "2023-10-09T14:27:11.605854",
     "exception": false,
     "start_time": "2023-10-09T14:27:11.575049",
     "status": "completed"
    },
    "tags": []
   },
   "source": [
    "## Length of documents "
   ]
  },
  {
   "cell_type": "code",
   "execution_count": 31,
   "id": "bbe6f245",
   "metadata": {
    "execution": {
     "iopub.execute_input": "2023-10-09T14:27:11.669666Z",
     "iopub.status.busy": "2023-10-09T14:27:11.668980Z",
     "iopub.status.idle": "2023-10-09T14:27:14.670776Z",
     "shell.execute_reply": "2023-10-09T14:27:14.669884Z"
    },
    "papermill": {
     "duration": 3.03628,
     "end_time": "2023-10-09T14:27:14.672774",
     "exception": false,
     "start_time": "2023-10-09T14:27:11.636494",
     "status": "completed"
    },
    "tags": []
   },
   "outputs": [
    {
     "name": "stdout",
     "output_type": "stream",
     "text": [
      "0        446\n",
      "1          4\n",
      "2         35\n",
      "4        192\n",
      "5        151\n",
      "        ... \n",
      "72125      9\n",
      "72127    134\n",
      "72128    456\n",
      "72130    344\n",
      "72133    241\n",
      "Name: Full_text_cleaned, Length: 37106, dtype: int64\n",
      "3         743\n",
      "11        231\n",
      "12        265\n",
      "14        297\n",
      "15        165\n",
      "         ... \n",
      "72124     643\n",
      "72126    1260\n",
      "72129     446\n",
      "72131     270\n",
      "72132     349\n",
      "Name: Full_text_cleaned, Length: 35028, dtype: int64\n"
     ]
    }
   ],
   "source": [
    "fake_lengths = fake_text.str.split().apply(len)\n",
    "print(fake_lengths)\n",
    "\n",
    "real_lengths = real_text.str.split().apply(len)\n",
    "print(real_lengths)\n"
   ]
  },
  {
   "cell_type": "markdown",
   "id": "c0e32829",
   "metadata": {
    "papermill": {
     "duration": 0.030337,
     "end_time": "2023-10-09T14:27:14.735079",
     "exception": false,
     "start_time": "2023-10-09T14:27:14.704742",
     "status": "completed"
    },
    "tags": []
   },
   "source": [
    "### Visualise differences in length -- are real text longer or shorter?"
   ]
  },
  {
   "cell_type": "code",
   "execution_count": 32,
   "id": "7eeadfe2",
   "metadata": {
    "execution": {
     "iopub.execute_input": "2023-10-09T14:27:14.797648Z",
     "iopub.status.busy": "2023-10-09T14:27:14.797306Z",
     "iopub.status.idle": "2023-10-09T14:27:15.413065Z",
     "shell.execute_reply": "2023-10-09T14:27:15.411990Z"
    },
    "papermill": {
     "duration": 0.649643,
     "end_time": "2023-10-09T14:27:15.415179",
     "exception": false,
     "start_time": "2023-10-09T14:27:14.765536",
     "status": "completed"
    },
    "tags": []
   },
   "outputs": [
    {
     "data": {
      "image/png": "[encoded data removed]",
      "text/plain": [
       "<Figure size 640x480 with 2 Axes>"
      ]
     },
     "metadata": {},
     "output_type": "display_data"
    }
   ],
   "source": [
    "## Fake one\n",
    "plt.subplot(1,2,1)\n",
    "plt.hist(fake_lengths, bins = 50, color = 'skyblue')\n",
    "plt.title('Distribution of lengths for Fake Texts')\n",
    "\n",
    "## Real one\n",
    "plt.subplot(1,2,2)\n",
    "plt.hist(fake_lengths, bins = 50, color = 'salmon')\n",
    "plt.title('Distribution of lengths for Real Texts')\n",
    "\n",
    "## \n",
    "plt.tight_layout()\n",
    "plt.show()"
   ]
  },
  {
   "cell_type": "markdown",
   "id": "32c92ae4",
   "metadata": {
    "papermill": {
     "duration": 0.030751,
     "end_time": "2023-10-09T14:27:15.477948",
     "exception": false,
     "start_time": "2023-10-09T14:27:15.447197",
     "status": "completed"
    },
    "tags": []
   },
   "source": [
    "We can see that both are highly right skewed -- most documents have lengths less than 2500 and most are close to 0. It is hard to see any differences between both distributions, hence the document length may not be a useful indicator."
   ]
  },
  {
   "cell_type": "markdown",
   "id": "a0835e9a",
   "metadata": {
    "papermill": {
     "duration": 0.030613,
     "end_time": "2023-10-09T14:27:15.539555",
     "exception": false,
     "start_time": "2023-10-09T14:27:15.508942",
     "status": "completed"
    },
    "tags": []
   },
   "source": [
    "# Feature engineering: Bags of Words model\n",
    "\n",
    "NLP models cannot take in raw text, as machine learning models only understand numbers and vectors. To feed our real and fake news data into a model, we must first convert the text into something vectorial, and one option is the **BOW** model. \n",
    "\n",
    "The **BoW** model treats text as an unordered set of words, where the sequence doesn't matter. We can already see how this is an obvious limitation, but this can be the first way forward. \n",
    "\n",
    "The first thing BoW does it to **create a vocabulary of all the words**. This will essentially become our predictors, i.e. each word is a predictor or a feature (e.g. such as how education, age, industry are predictors for wage prediction). In this case, each document is a sample, as will be represented by a vector whose length is equal to the size of the vocabulary. Each entry corresponds to the number of words in for that unique word predictor of the particular document -- i.e. the i,j-th entry corresponds to the frequency of the jth word for the ith document. "
   ]
  },
  {
   "cell_type": "markdown",
   "id": "3a3b78a6",
   "metadata": {
    "papermill": {
     "duration": 0.030576,
     "end_time": "2023-10-09T14:27:15.601129",
     "exception": false,
     "start_time": "2023-10-09T14:27:15.570553",
     "status": "completed"
    },
    "tags": []
   },
   "source": [
    "## Transforming text to BoW -- Count Vectoriser "
   ]
  },
  {
   "cell_type": "code",
   "execution_count": 33,
   "id": "8b7728e6",
   "metadata": {
    "execution": {
     "iopub.execute_input": "2023-10-09T14:27:15.665473Z",
     "iopub.status.busy": "2023-10-09T14:27:15.664447Z",
     "iopub.status.idle": "2023-10-09T14:27:15.668680Z",
     "shell.execute_reply": "2023-10-09T14:27:15.668040Z"
    },
    "papermill": {
     "duration": 0.038376,
     "end_time": "2023-10-09T14:27:15.670369",
     "exception": false,
     "start_time": "2023-10-09T14:27:15.631993",
     "status": "completed"
    },
    "tags": []
   },
   "outputs": [],
   "source": [
    "from sklearn.feature_extraction.text import CountVectorizer\n",
    "\n",
    "## Instantiate vectorizer \n",
    "vectoriser = CountVectorizer()"
   ]
  },
  {
   "cell_type": "code",
   "execution_count": 34,
   "id": "149b4a41",
   "metadata": {
    "execution": {
     "iopub.execute_input": "2023-10-09T14:27:15.736148Z",
     "iopub.status.busy": "2023-10-09T14:27:15.735002Z",
     "iopub.status.idle": "2023-10-09T14:27:35.716347Z",
     "shell.execute_reply": "2023-10-09T14:27:35.715241Z"
    },
    "papermill": {
     "duration": 20.017385,
     "end_time": "2023-10-09T14:27:35.718813",
     "exception": false,
     "start_time": "2023-10-09T14:27:15.701428",
     "status": "completed"
    },
    "tags": []
   },
   "outputs": [],
   "source": [
    "## Save text\n",
    "preprocessed_text = data.Full_text_cleaned\n",
    "\n",
    "## Apply vectoriser to get the bag of words matrix\n",
    "X = vectoriser.fit_transform(preprocessed_text)"
   ]
  },
  {
   "cell_type": "code",
   "execution_count": 35,
   "id": "dfb5f4d3",
   "metadata": {
    "execution": {
     "iopub.execute_input": "2023-10-09T14:27:35.785790Z",
     "iopub.status.busy": "2023-10-09T14:27:35.784681Z",
     "iopub.status.idle": "2023-10-09T14:27:35.790133Z",
     "shell.execute_reply": "2023-10-09T14:27:35.789149Z"
    },
    "papermill": {
     "duration": 0.041468,
     "end_time": "2023-10-09T14:27:35.791815",
     "exception": false,
     "start_time": "2023-10-09T14:27:35.750347",
     "status": "completed"
    },
    "tags": []
   },
   "outputs": [
    {
     "name": "stdout",
     "output_type": "stream",
     "text": [
      "(72134, 238433)\n"
     ]
    }
   ],
   "source": [
    "## Check outcome\n",
    "#print(X)\n",
    "\n",
    "## Shape\n",
    "print(X.shape)"
   ]
  },
  {
   "cell_type": "markdown",
   "id": "276c75fb",
   "metadata": {
    "papermill": {
     "duration": 0.031321,
     "end_time": "2023-10-09T14:27:35.854187",
     "exception": false,
     "start_time": "2023-10-09T14:27:35.822866",
     "status": "completed"
    },
    "tags": []
   },
   "source": [
    "As expected, we have about 700k documents, but the vocab size is 2 million, much bigger than before. This number of columns is very big (imagine 2 million predictors), and this may result in overfitting.\n",
    "\n",
    "We try to make number of features smaller via some arguments of countvectoriser"
   ]
  },
  {
   "cell_type": "code",
   "execution_count": 36,
   "id": "cfef79e5",
   "metadata": {
    "execution": {
     "iopub.execute_input": "2023-10-09T14:27:35.919768Z",
     "iopub.status.busy": "2023-10-09T14:27:35.918841Z",
     "iopub.status.idle": "2023-10-09T14:27:57.137400Z",
     "shell.execute_reply": "2023-10-09T14:27:57.136191Z"
    },
    "papermill": {
     "duration": 21.253559,
     "end_time": "2023-10-09T14:27:57.139669",
     "exception": false,
     "start_time": "2023-10-09T14:27:35.886110",
     "status": "completed"
    },
    "tags": []
   },
   "outputs": [],
   "source": [
    "## Re-instantiate with all the new parameters\n",
    "vectoriser = CountVectorizer(min_df = 100, ## require a word to be in at least 100 documents\n",
    "                            max_df = 0.90, ## is a word appears in 90% or more of documents, then ignore, since it may be too common\n",
    "                            stop_words = 'english', ## use stopwords again, although we had used it from spacy already\n",
    "                            max_features = 10000)\n",
    "\n",
    "\n",
    "## Now, reapply vectoriser\n",
    "X = vectoriser.fit_transform(preprocessed_text) ## use only 10000 most common words"
   ]
  },
  {
   "cell_type": "code",
   "execution_count": 37,
   "id": "852ce1f0",
   "metadata": {
    "execution": {
     "iopub.execute_input": "2023-10-09T14:27:57.205107Z",
     "iopub.status.busy": "2023-10-09T14:27:57.204430Z",
     "iopub.status.idle": "2023-10-09T14:27:57.209053Z",
     "shell.execute_reply": "2023-10-09T14:27:57.208263Z"
    },
    "papermill": {
     "duration": 0.040012,
     "end_time": "2023-10-09T14:27:57.211195",
     "exception": false,
     "start_time": "2023-10-09T14:27:57.171183",
     "status": "completed"
    },
    "tags": []
   },
   "outputs": [
    {
     "name": "stdout",
     "output_type": "stream",
     "text": [
      "(72134, 10000)\n"
     ]
    }
   ],
   "source": [
    "## Check again\n",
    "print(X.shape) ## confirmed that we have 10000 predictors "
   ]
  },
  {
   "cell_type": "code",
   "execution_count": 38,
   "id": "a875ff03",
   "metadata": {
    "execution": {
     "iopub.execute_input": "2023-10-09T14:27:57.276992Z",
     "iopub.status.busy": "2023-10-09T14:27:57.276576Z",
     "iopub.status.idle": "2023-10-09T14:27:57.282331Z",
     "shell.execute_reply": "2023-10-09T14:27:57.281257Z"
    },
    "papermill": {
     "duration": 0.041775,
     "end_time": "2023-10-09T14:27:57.284620",
     "exception": false,
     "start_time": "2023-10-09T14:27:57.242845",
     "status": "completed"
    },
    "tags": []
   },
   "outputs": [
    {
     "name": "stdout",
     "output_type": "stream",
     "text": [
      "  (0, 72)\t1\n",
      "  (3, 21)\t1\n",
      "  (3, 74)\t1\n",
      "  (3, 77)\t1\n",
      "  (4, 67)\t1\n",
      "  (4, 68)\t1\n",
      "  (4, 17)\t1\n",
      "  (9, 54)\t2\n",
      "  (12, 54)\t1\n",
      "  (12, 16)\t1\n",
      "  (14, 54)\t1\n",
      "  (15, 68)\t2\n",
      "  (16, 17)\t1\n",
      "  (18, 68)\t1\n",
      "  (18, 17)\t1\n",
      "  (18, 65)\t5\n",
      "  (18, 66)\t1\n",
      "  (18, 2)\t1\n",
      "  (19, 54)\t1\n",
      "  (19, 70)\t1\n",
      "  (20, 31)\t1\n",
      "  (21, 55)\t1\n",
      "  (22, 31)\t1\n",
      "  (23, 17)\t1\n",
      "  (23, 54)\t1\n",
      "  :\t:\n",
      "  (81, 71)\t2\n",
      "  (81, 73)\t1\n",
      "  (81, 35)\t4\n",
      "  (81, 96)\t2\n",
      "  (81, 53)\t1\n",
      "  (82, 76)\t1\n",
      "  (83, 77)\t1\n",
      "  (83, 68)\t1\n",
      "  (83, 17)\t1\n",
      "  (83, 35)\t2\n",
      "  (85, 11)\t1\n",
      "  (85, 46)\t1\n",
      "  (86, 48)\t1\n",
      "  (87, 17)\t1\n",
      "  (87, 7)\t1\n",
      "  (88, 68)\t1\n",
      "  (89, 16)\t1\n",
      "  (90, 86)\t1\n",
      "  (93, 48)\t1\n",
      "  (95, 68)\t1\n",
      "  (95, 70)\t1\n",
      "  (95, 76)\t1\n",
      "  (99, 17)\t1\n",
      "  (99, 61)\t1\n",
      "  (99, 37)\t1\n"
     ]
    }
   ],
   "source": [
    "## See a sample\n",
    "print(X[0:100,0:100])"
   ]
  },
  {
   "cell_type": "markdown",
   "id": "04318c26",
   "metadata": {
    "papermill": {
     "duration": 0.031628,
     "end_time": "2023-10-09T14:27:57.348252",
     "exception": false,
     "start_time": "2023-10-09T14:27:57.316624",
     "status": "completed"
    },
    "tags": []
   },
   "source": [
    "## Visualising count vectorised data -- BoW"
   ]
  },
  {
   "cell_type": "code",
   "execution_count": 39,
   "id": "4f0f037f",
   "metadata": {
    "execution": {
     "iopub.execute_input": "2023-10-09T14:27:57.413993Z",
     "iopub.status.busy": "2023-10-09T14:27:57.413212Z",
     "iopub.status.idle": "2023-10-09T14:27:57.453861Z",
     "shell.execute_reply": "2023-10-09T14:27:57.453013Z"
    },
    "papermill": {
     "duration": 0.076019,
     "end_time": "2023-10-09T14:27:57.455725",
     "exception": false,
     "start_time": "2023-10-09T14:27:57.379706",
     "status": "completed"
    },
    "tags": []
   },
   "outputs": [
    {
     "name": "stdout",
     "output_type": "stream",
     "text": [
      "<class 'dict'>\n",
      "10000\n",
      "            word  count\n",
      "9976         это   9999\n",
      "9036         что   9998\n",
      "9974          то   9997\n",
      "9035          по   9996\n",
      "9039          не   9995\n",
      "...          ...    ...\n",
      "4789  abandoning      4\n",
      "4059   abandoned      3\n",
      "1789     abandon      2\n",
      "2621       abadi      1\n",
      "3780       aaron      0\n",
      "\n",
      "[10000 rows x 2 columns]\n"
     ]
    }
   ],
   "source": [
    "print(type(vectoriser.vocabulary_))\n",
    "print(len(vectoriser.vocabulary_))\n",
    "\n",
    "countvect_df = pd.DataFrame(vectoriser.vocabulary_.items(), ## extract out the items from the dictionary so that we can turn it into a pandas dataframe\n",
    "                           columns = ['word', 'count'])\n",
    "\n",
    "print(countvect_df.sort_values('count', ascending = False))"
   ]
  },
  {
   "cell_type": "code",
   "execution_count": 40,
   "id": "56b02b95",
   "metadata": {
    "execution": {
     "iopub.execute_input": "2023-10-09T14:27:57.523294Z",
     "iopub.status.busy": "2023-10-09T14:27:57.522878Z",
     "iopub.status.idle": "2023-10-09T14:27:57.948459Z",
     "shell.execute_reply": "2023-10-09T14:27:57.947379Z"
    },
    "papermill": {
     "duration": 0.461854,
     "end_time": "2023-10-09T14:27:57.950791",
     "exception": false,
     "start_time": "2023-10-09T14:27:57.488937",
     "status": "completed"
    },
    "tags": []
   },
   "outputs": [
    {
     "data": {
      "image/png": "[encoded data removed]",
      "text/plain": [
       "<Figure size 640x480 with 1 Axes>"
      ]
     },
     "metadata": {},
     "output_type": "display_data"
    }
   ],
   "source": [
    "## Get top ten words to visualise \n",
    "n = 40\n",
    "top_words_from_countvec = countvect_df.sort_values('count', ascending = False).head(n)\n",
    "\n",
    "## Plot\n",
    "plt.bar(top_words_from_countvec['word'], top_words_from_countvec['count'])\n",
    "plt.ylim([9000, 10000 + 100])\n",
    "plt.xticks(rotation = 90)\n",
    "plt.title(\"Top n words\")\n",
    "plt.show()"
   ]
  },
  {
   "cell_type": "markdown",
   "id": "dc29cff6",
   "metadata": {
    "papermill": {
     "duration": 0.032886,
     "end_time": "2023-10-09T14:27:58.015994",
     "exception": false,
     "start_time": "2023-10-09T14:27:57.983108",
     "status": "completed"
    },
    "tags": []
   },
   "source": [
    "We see some non-English, possibly Russian words that are highly used in our corpus and forms the most common word features for our Bag of Words model. "
   ]
  },
  {
   "cell_type": "markdown",
   "id": "83855ed2",
   "metadata": {
    "papermill": {
     "duration": 0.03207,
     "end_time": "2023-10-09T14:27:58.080232",
     "exception": false,
     "start_time": "2023-10-09T14:27:58.048162",
     "status": "completed"
    },
    "tags": []
   },
   "source": [
    "## Train test split\n",
    "\n",
    "Use 80-20 train test split"
   ]
  },
  {
   "cell_type": "code",
   "execution_count": 41,
   "id": "6ea13a4f",
   "metadata": {
    "execution": {
     "iopub.execute_input": "2023-10-09T14:27:58.148697Z",
     "iopub.status.busy": "2023-10-09T14:27:58.148362Z",
     "iopub.status.idle": "2023-10-09T14:27:58.209311Z",
     "shell.execute_reply": "2023-10-09T14:27:58.208201Z"
    },
    "papermill": {
     "duration": 0.098843,
     "end_time": "2023-10-09T14:27:58.211670",
     "exception": false,
     "start_time": "2023-10-09T14:27:58.112827",
     "status": "completed"
    },
    "tags": []
   },
   "outputs": [],
   "source": [
    "from sklearn.model_selection import train_test_split\n",
    "\n",
    "y = data['label']  # Assuming 'label' is the column with fake/real labels\n",
    "X_train, X_test, y_train, y_test = train_test_split(X, y, test_size=0.2, random_state=42)"
   ]
  },
  {
   "cell_type": "code",
   "execution_count": 42,
   "id": "6e3339ba",
   "metadata": {
    "execution": {
     "iopub.execute_input": "2023-10-09T14:27:58.279426Z",
     "iopub.status.busy": "2023-10-09T14:27:58.278722Z",
     "iopub.status.idle": "2023-10-09T14:27:58.283746Z",
     "shell.execute_reply": "2023-10-09T14:27:58.282689Z"
    },
    "papermill": {
     "duration": 0.041627,
     "end_time": "2023-10-09T14:27:58.285895",
     "exception": false,
     "start_time": "2023-10-09T14:27:58.244268",
     "status": "completed"
    },
    "tags": []
   },
   "outputs": [
    {
     "name": "stdout",
     "output_type": "stream",
     "text": [
      "Train set  (57707, 10000)\n",
      "Test set  (14427, 10000)\n"
     ]
    }
   ],
   "source": [
    "## Check dimensions\n",
    "\n",
    "print('Train set ', X_train.shape)\n",
    "print('Test set ', X_test.shape)"
   ]
  },
  {
   "cell_type": "markdown",
   "id": "04c8de6e",
   "metadata": {
    "papermill": {
     "duration": 0.034869,
     "end_time": "2023-10-09T14:27:58.354154",
     "exception": false,
     "start_time": "2023-10-09T14:27:58.319285",
     "status": "completed"
    },
    "tags": []
   },
   "source": [
    "# First set: Use different models on BOW "
   ]
  },
  {
   "cell_type": "markdown",
   "id": "ae292a3b",
   "metadata": {
    "papermill": {
     "duration": 0.032773,
     "end_time": "2023-10-09T14:27:58.420457",
     "exception": false,
     "start_time": "2023-10-09T14:27:58.387684",
     "status": "completed"
    },
    "tags": []
   },
   "source": [
    "## BOW 1: Logistic regression "
   ]
  },
  {
   "cell_type": "code",
   "execution_count": 43,
   "id": "995ec398",
   "metadata": {
    "execution": {
     "iopub.execute_input": "2023-10-09T14:27:58.488878Z",
     "iopub.status.busy": "2023-10-09T14:27:58.487850Z",
     "iopub.status.idle": "2023-10-09T14:28:35.356789Z",
     "shell.execute_reply": "2023-10-09T14:28:35.355345Z"
    },
    "papermill": {
     "duration": 36.998858,
     "end_time": "2023-10-09T14:28:35.452016",
     "exception": false,
     "start_time": "2023-10-09T14:27:58.453158",
     "status": "completed"
    },
    "tags": []
   },
   "outputs": [
    {
     "name": "stdout",
     "output_type": "stream",
     "text": [
      "Time to fit logistic regression : 36.860883712768555\n"
     ]
    }
   ],
   "source": [
    "## TRAIN\n",
    "from sklearn.linear_model import LogisticRegression\n",
    "\n",
    "s = time.time()\n",
    "log_clf = LogisticRegression(max_iter=1000)  # Increased max_iter for convergence\n",
    "log_clf.fit(X_train, y_train)\n",
    "time_for_logreg = time.time() - s\n",
    "print(\"Time to fit logistic regression :\", time_for_logreg )"
   ]
  },
  {
   "cell_type": "code",
   "execution_count": 44,
   "id": "932ce41d",
   "metadata": {
    "execution": {
     "iopub.execute_input": "2023-10-09T14:28:35.534075Z",
     "iopub.status.busy": "2023-10-09T14:28:35.532833Z",
     "iopub.status.idle": "2023-10-09T14:28:35.577135Z",
     "shell.execute_reply": "2023-10-09T14:28:35.576070Z"
    },
    "papermill": {
     "duration": 0.081346,
     "end_time": "2023-10-09T14:28:35.579308",
     "exception": false,
     "start_time": "2023-10-09T14:28:35.497962",
     "status": "completed"
    },
    "tags": []
   },
   "outputs": [
    {
     "name": "stdout",
     "output_type": "stream",
     "text": [
      "              precision    recall  f1-score   support\n",
      "\n",
      "           0       0.96      0.93      0.94      7089\n",
      "           1       0.94      0.96      0.95      7338\n",
      "\n",
      "    accuracy                           0.95     14427\n",
      "   macro avg       0.95      0.95      0.95     14427\n",
      "weighted avg       0.95      0.95      0.95     14427\n",
      "\n"
     ]
    }
   ],
   "source": [
    "## Evaluate \n",
    "\n",
    "from sklearn.metrics import classification_report, confusion_matrix\n",
    "\n",
    "y_pred_log = log_clf.predict(X_test)\n",
    "print(classification_report(y_test, y_pred_log))"
   ]
  },
  {
   "cell_type": "code",
   "execution_count": 45,
   "id": "bd98a5c1",
   "metadata": {
    "execution": {
     "iopub.execute_input": "2023-10-09T14:28:35.646539Z",
     "iopub.status.busy": "2023-10-09T14:28:35.646187Z",
     "iopub.status.idle": "2023-10-09T14:28:35.929418Z",
     "shell.execute_reply": "2023-10-09T14:28:35.928469Z"
    },
    "papermill": {
     "duration": 0.319335,
     "end_time": "2023-10-09T14:28:35.931308",
     "exception": false,
     "start_time": "2023-10-09T14:28:35.611973",
     "status": "completed"
    },
    "tags": []
   },
   "outputs": [
    {
     "data": {
      "text/plain": [
       "Text(50.722222222222214, 0.5, 'Real Labels')"
      ]
     },
     "execution_count": 45,
     "metadata": {},
     "output_type": "execute_result"
    },
    {
     "data": {
      "image/png": "[encoded data removed]",
      "text/plain": [
       "<Figure size 640x480 with 2 Axes>"
      ]
     },
     "metadata": {},
     "output_type": "display_data"
    }
   ],
   "source": [
    "## Evaluate with Confusion Matrix\n",
    "\n",
    "sns.heatmap(confusion_matrix(y_test,y_pred_log), annot=True, \n",
    "            fmt='', cmap='Blues')\n",
    "\n",
    "plt.xlabel('Predicted Labels')\n",
    "plt.ylabel('Real Labels')"
   ]
  },
  {
   "cell_type": "markdown",
   "id": "8b65036d",
   "metadata": {
    "papermill": {
     "duration": 0.032608,
     "end_time": "2023-10-09T14:28:35.997527",
     "exception": false,
     "start_time": "2023-10-09T14:28:35.964919",
     "status": "completed"
    },
    "tags": []
   },
   "source": [
    "## BOW2: SVM \n",
    "\n",
    "SVM may be good for high dimensionality data, such as text that we are working on, with 10000 predictors. In such cases we use linear kernels, and it is interesting to see if it gives similar results to Logistic regression. "
   ]
  },
  {
   "cell_type": "code",
   "execution_count": 46,
   "id": "eba6b948",
   "metadata": {
    "execution": {
     "iopub.execute_input": "2023-10-09T14:28:36.068584Z",
     "iopub.status.busy": "2023-10-09T14:28:36.067579Z",
     "iopub.status.idle": "2023-10-09T14:39:35.507436Z",
     "shell.execute_reply": "2023-10-09T14:39:35.506683Z"
    },
    "papermill": {
     "duration": 659.511014,
     "end_time": "2023-10-09T14:39:35.543939",
     "exception": false,
     "start_time": "2023-10-09T14:28:36.032925",
     "status": "completed"
    },
    "tags": []
   },
   "outputs": [
    {
     "name": "stdout",
     "output_type": "stream",
     "text": [
      "Time to fit SVM : 659.43323969841\n"
     ]
    }
   ],
   "source": [
    "from sklearn.svm import LinearSVC\n",
    "\n",
    "linear_svc_clf = LinearSVC(max_iter = 100000) ##increase max iter to 100k for convergence\n",
    "s = time.time()\n",
    "linear_svc_clf.fit(X_train, y_train)\n",
    "time_for_linear_svm = time.time() - s\n",
    "print(\"Time to fit SVM :\", time_for_linear_svm)"
   ]
  },
  {
   "cell_type": "markdown",
   "id": "06007ee9",
   "metadata": {
    "papermill": {
     "duration": 0.033748,
     "end_time": "2023-10-09T14:39:35.611609",
     "exception": false,
     "start_time": "2023-10-09T14:39:35.577861",
     "status": "completed"
    },
    "tags": []
   },
   "source": [
    "Time fitting SVM -- much longer than fitting a logistic regression, possibly due to the large feature space of the data. "
   ]
  },
  {
   "cell_type": "code",
   "execution_count": 47,
   "id": "6df3c039",
   "metadata": {
    "execution": {
     "iopub.execute_input": "2023-10-09T14:39:35.680633Z",
     "iopub.status.busy": "2023-10-09T14:39:35.679972Z",
     "iopub.status.idle": "2023-10-09T14:39:35.721245Z",
     "shell.execute_reply": "2023-10-09T14:39:35.720552Z"
    },
    "papermill": {
     "duration": 0.078691,
     "end_time": "2023-10-09T14:39:35.723489",
     "exception": false,
     "start_time": "2023-10-09T14:39:35.644798",
     "status": "completed"
    },
    "tags": []
   },
   "outputs": [
    {
     "name": "stdout",
     "output_type": "stream",
     "text": [
      "              precision    recall  f1-score   support\n",
      "\n",
      "           0       0.95      0.92      0.94      7089\n",
      "           1       0.93      0.95      0.94      7338\n",
      "\n",
      "    accuracy                           0.94     14427\n",
      "   macro avg       0.94      0.94      0.94     14427\n",
      "weighted avg       0.94      0.94      0.94     14427\n",
      "\n"
     ]
    }
   ],
   "source": [
    "## Evaluate \n",
    "y_pred_svc = linear_svc_clf.predict(X_test)\n",
    "print(classification_report(y_test, y_pred_svc))"
   ]
  },
  {
   "cell_type": "code",
   "execution_count": 48,
   "id": "4c75f715",
   "metadata": {
    "execution": {
     "iopub.execute_input": "2023-10-09T14:39:35.793150Z",
     "iopub.status.busy": "2023-10-09T14:39:35.792424Z",
     "iopub.status.idle": "2023-10-09T14:39:36.066151Z",
     "shell.execute_reply": "2023-10-09T14:39:36.065053Z"
    },
    "papermill": {
     "duration": 0.310614,
     "end_time": "2023-10-09T14:39:36.068203",
     "exception": false,
     "start_time": "2023-10-09T14:39:35.757589",
     "status": "completed"
    },
    "tags": []
   },
   "outputs": [
    {
     "data": {
      "text/plain": [
       "Text(50.722222222222214, 0.5, 'Real Labels')"
      ]
     },
     "execution_count": 48,
     "metadata": {},
     "output_type": "execute_result"
    },
    {
     "data": {
      "image/png": "[encoded data removed]",
      "text/plain": [
       "<Figure size 640x480 with 2 Axes>"
      ]
     },
     "metadata": {},
     "output_type": "display_data"
    }
   ],
   "source": [
    "## Evaluate with Confusion Matrix\n",
    "\n",
    "sns.heatmap(confusion_matrix(y_test,y_pred_svc), annot=True, \n",
    "            fmt='', cmap='Blues')\n",
    "\n",
    "plt.xlabel('Predicted Labels')\n",
    "plt.ylabel('Real Labels')"
   ]
  },
  {
   "cell_type": "markdown",
   "id": "4b89aaef",
   "metadata": {
    "papermill": {
     "duration": 0.033226,
     "end_time": "2023-10-09T14:39:36.134622",
     "exception": false,
     "start_time": "2023-10-09T14:39:36.101396",
     "status": "completed"
    },
    "tags": []
   },
   "source": [
    "#### Linear SVM vs Logistic Regression \n",
    "\n",
    "* Logistic regression fits to data much quicker\n",
    "* Accuracy is roughly the same\n"
   ]
  },
  {
   "cell_type": "markdown",
   "id": "d07174a9",
   "metadata": {
    "papermill": {
     "duration": 0.032627,
     "end_time": "2023-10-09T14:39:36.200099",
     "exception": false,
     "start_time": "2023-10-09T14:39:36.167472",
     "status": "completed"
    },
    "tags": []
   },
   "source": [
    "## BOW3: Random forests"
   ]
  },
  {
   "cell_type": "markdown",
   "id": "b17ed3d1",
   "metadata": {
    "papermill": {
     "duration": 0.033182,
     "end_time": "2023-10-09T14:39:36.267180",
     "exception": false,
     "start_time": "2023-10-09T14:39:36.233998",
     "status": "completed"
    },
    "tags": []
   },
   "source": [
    "For the forest, we will use 300 trees, and default values for the other hyperparameters \n",
    "\n",
    "* ceriterion: gini\n",
    "* max_depth = none, i.e. expanded until pure or less than min_samples_split\n",
    "* max_features = sqrt\n",
    "\n",
    "Random forests work by bootstrapping the dataset to train slightly different trees, and then all the trees are combined to form an ensemble model, where the final decision is an equally weighted aggregate of the votes from all trees. The bootstrapping method, along with randomly selecting a subset of predictors to choose for for each split of the trees, help to decorrelate the trees such that they offer different insights into the data. Trees are usually fitted by finding the best feature and its best split at each branch of the tree and choosing the one that best minimises some cost function, such as entropy or gini impurity. \n",
    "\n",
    "Random forests help to generalise an otherwise overfitted single decision tree."
   ]
  },
  {
   "cell_type": "code",
   "execution_count": 49,
   "id": "73c7ebfa",
   "metadata": {
    "execution": {
     "iopub.execute_input": "2023-10-09T14:39:36.337269Z",
     "iopub.status.busy": "2023-10-09T14:39:36.336887Z",
     "iopub.status.idle": "2023-10-09T14:44:11.361695Z",
     "shell.execute_reply": "2023-10-09T14:44:11.360593Z"
    },
    "papermill": {
     "duration": 275.096396,
     "end_time": "2023-10-09T14:44:11.398731",
     "exception": false,
     "start_time": "2023-10-09T14:39:36.302335",
     "status": "completed"
    },
    "tags": []
   },
   "outputs": [
    {
     "name": "stdout",
     "output_type": "stream",
     "text": [
      "RandomForestClassifier(n_estimators=300, n_jobs=-1)\n",
      "Time to fit RF : 274.74260425567627\n"
     ]
    }
   ],
   "source": [
    "from sklearn.ensemble import RandomForestClassifier\n",
    "rf1 = RandomForestClassifier(n_estimators=300, n_jobs = -1)\n",
    "print(rf1)\n",
    "\n",
    "s = time.time()\n",
    "rf1.fit(X_train, y_train)\n",
    "time_for_rf_1 = time.time() - s\n",
    "print(\"Time to fit RF :\", time_for_rf_1)"
   ]
  },
  {
   "cell_type": "code",
   "execution_count": 50,
   "id": "09c36129",
   "metadata": {
    "execution": {
     "iopub.execute_input": "2023-10-09T14:44:11.468532Z",
     "iopub.status.busy": "2023-10-09T14:44:11.468196Z",
     "iopub.status.idle": "2023-10-09T14:44:12.876619Z",
     "shell.execute_reply": "2023-10-09T14:44:12.875299Z"
    },
    "papermill": {
     "duration": 1.446453,
     "end_time": "2023-10-09T14:44:12.878759",
     "exception": false,
     "start_time": "2023-10-09T14:44:11.432306",
     "status": "completed"
    },
    "tags": []
   },
   "outputs": [
    {
     "name": "stdout",
     "output_type": "stream",
     "text": [
      "              precision    recall  f1-score   support\n",
      "\n",
      "           0       0.96      0.95      0.95      7089\n",
      "           1       0.95      0.96      0.96      7338\n",
      "\n",
      "    accuracy                           0.95     14427\n",
      "   macro avg       0.95      0.95      0.95     14427\n",
      "weighted avg       0.95      0.95      0.95     14427\n",
      "\n"
     ]
    }
   ],
   "source": [
    "## Evaluate \n",
    "y_pred_rf1 = rf1.predict(X_test)\n",
    "print(classification_report(y_test, y_pred_rf1))"
   ]
  },
  {
   "cell_type": "code",
   "execution_count": 51,
   "id": "96361476",
   "metadata": {
    "execution": {
     "iopub.execute_input": "2023-10-09T14:44:12.947913Z",
     "iopub.status.busy": "2023-10-09T14:44:12.947219Z",
     "iopub.status.idle": "2023-10-09T14:44:13.254980Z",
     "shell.execute_reply": "2023-10-09T14:44:13.253859Z"
    },
    "papermill": {
     "duration": 0.345019,
     "end_time": "2023-10-09T14:44:13.257211",
     "exception": false,
     "start_time": "2023-10-09T14:44:12.912192",
     "status": "completed"
    },
    "tags": []
   },
   "outputs": [
    {
     "data": {
      "text/plain": [
       "Text(50.722222222222214, 0.5, 'Real Labels')"
      ]
     },
     "execution_count": 51,
     "metadata": {},
     "output_type": "execute_result"
    },
    {
     "data": {
      "image/png": "[encoded data removed]",
      "text/plain": [
       "<Figure size 640x480 with 2 Axes>"
      ]
     },
     "metadata": {},
     "output_type": "display_data"
    }
   ],
   "source": [
    "## Evaluate with Confusion Matrix\n",
    "\n",
    "sns.heatmap(confusion_matrix(y_test,y_pred_rf1), annot=True, \n",
    "            fmt='', cmap='Blues')\n",
    "\n",
    "plt.xlabel('Predicted Labels')\n",
    "plt.ylabel('Real Labels')"
   ]
  },
  {
   "cell_type": "markdown",
   "id": "5081b2d5",
   "metadata": {
    "papermill": {
     "duration": 0.033925,
     "end_time": "2023-10-09T14:44:13.325104",
     "exception": false,
     "start_time": "2023-10-09T14:44:13.291179",
     "status": "completed"
    },
    "tags": []
   },
   "source": [
    "## BOW 3.2: Tuned RF"
   ]
  },
  {
   "cell_type": "markdown",
   "id": "c28ee402",
   "metadata": {
    "papermill": {
     "duration": 0.033363,
     "end_time": "2023-10-09T14:44:13.395003",
     "exception": false,
     "start_time": "2023-10-09T14:44:13.361640",
     "status": "completed"
    },
    "tags": []
   },
   "source": [
    "There are many hyperparameters to be tuned with random forests.\n",
    "\n",
    "We will use random search (cross validation) instead of gridsearch, which may be faster and more efficient. This is done by randomly selecting points in the hyperparameter space, instead of using all of them. "
   ]
  },
  {
   "cell_type": "code",
   "execution_count": 52,
   "id": "8a222c51",
   "metadata": {
    "execution": {
     "iopub.execute_input": "2023-10-09T14:44:13.465001Z",
     "iopub.status.busy": "2023-10-09T14:44:13.464294Z",
     "iopub.status.idle": "2023-10-09T14:44:13.468523Z",
     "shell.execute_reply": "2023-10-09T14:44:13.467501Z"
    },
    "papermill": {
     "duration": 0.041586,
     "end_time": "2023-10-09T14:44:13.470349",
     "exception": false,
     "start_time": "2023-10-09T14:44:13.428763",
     "status": "completed"
    },
    "tags": []
   },
   "outputs": [],
   "source": [
    "from sklearn.model_selection import RandomizedSearchCV"
   ]
  },
  {
   "cell_type": "code",
   "execution_count": 53,
   "id": "ecc28d59",
   "metadata": {
    "execution": {
     "iopub.execute_input": "2023-10-09T14:44:13.539790Z",
     "iopub.status.busy": "2023-10-09T14:44:13.539367Z",
     "iopub.status.idle": "2023-10-09T14:44:13.544555Z",
     "shell.execute_reply": "2023-10-09T14:44:13.543687Z"
    },
    "papermill": {
     "duration": 0.042291,
     "end_time": "2023-10-09T14:44:13.546459",
     "exception": false,
     "start_time": "2023-10-09T14:44:13.504168",
     "status": "completed"
    },
    "tags": []
   },
   "outputs": [],
   "source": [
    "## Set up hyperparameter space \n",
    "\n",
    "param_grid = {\n",
    "    'n_estimators' : [50, 150, 300, 450],\n",
    "    'max_depth': [None, 10, 20, 40],\n",
    "    'max_features': ['sqrt', 'log2'] \n",
    "}"
   ]
  },
  {
   "cell_type": "code",
   "execution_count": 54,
   "id": "85094153",
   "metadata": {
    "execution": {
     "iopub.execute_input": "2023-10-09T14:44:13.616435Z",
     "iopub.status.busy": "2023-10-09T14:44:13.616086Z",
     "iopub.status.idle": "2023-10-09T14:55:33.780792Z",
     "shell.execute_reply": "2023-10-09T14:55:33.779436Z"
    },
    "papermill": {
     "duration": 680.235919,
     "end_time": "2023-10-09T14:55:33.816729",
     "exception": false,
     "start_time": "2023-10-09T14:44:13.580810",
     "status": "completed"
    },
    "tags": []
   },
   "outputs": [
    {
     "name": "stdout",
     "output_type": "stream",
     "text": [
      "Fitting 3 folds for each of 10 candidates, totalling 30 fits\n",
      "Time for hyperparameter tuning via random search CV  680.1550951004028\n"
     ]
    }
   ],
   "source": [
    "## Reinstantiate\n",
    "rf = RandomForestClassifier(random_state = 42)\n",
    "\n",
    "## Fit the random search object (i.e. start fitting rfs) and find the best model\n",
    "s = time.time()\n",
    "\n",
    "## init the RandomizedSearchCV object as random_search, stating the grid of params to test\n",
    "random_search = RandomizedSearchCV(estimator=rf, param_distributions=param_grid, \n",
    "                                   n_iter=10, ## number of parameter settings being sampled (number of combinations being tried)\n",
    "                                   cv=3, n_jobs=-1, verbose=2, random_state=42)\n",
    "## fit the random search object \n",
    "random_search.fit(X_train, y_train)\n",
    "time_for_rf_2_hypertun = time.time() - s\n",
    "print(\"Time for hyperparameter tuning via random search CV \", time_for_rf_2_hypertun)\n",
    "best_rf = random_search.best_estimator_"
   ]
  },
  {
   "cell_type": "markdown",
   "id": "69584954",
   "metadata": {
    "papermill": {
     "duration": 0.03375,
     "end_time": "2023-10-09T14:55:33.886865",
     "exception": false,
     "start_time": "2023-10-09T14:55:33.853115",
     "status": "completed"
    },
    "tags": []
   },
   "source": [
    "For the sake of saving time fitting the random search, we opt for 10 iterations i.e. 10 combinations tested"
   ]
  },
  {
   "cell_type": "code",
   "execution_count": 55,
   "id": "b3d69ced",
   "metadata": {
    "execution": {
     "iopub.execute_input": "2023-10-09T14:55:33.957405Z",
     "iopub.status.busy": "2023-10-09T14:55:33.957048Z",
     "iopub.status.idle": "2023-10-09T14:55:35.588936Z",
     "shell.execute_reply": "2023-10-09T14:55:35.587682Z"
    },
    "papermill": {
     "duration": 1.670039,
     "end_time": "2023-10-09T14:55:35.591073",
     "exception": false,
     "start_time": "2023-10-09T14:55:33.921034",
     "status": "completed"
    },
    "tags": []
   },
   "outputs": [
    {
     "name": "stdout",
     "output_type": "stream",
     "text": [
      "Random Forest Results\n",
      "              precision    recall  f1-score   support\n",
      "\n",
      "           0       0.96      0.93      0.94      7089\n",
      "           1       0.93      0.96      0.95      7338\n",
      "\n",
      "    accuracy                           0.94     14427\n",
      "   macro avg       0.94      0.94      0.94     14427\n",
      "weighted avg       0.94      0.94      0.94     14427\n",
      "\n"
     ]
    }
   ],
   "source": [
    "y_pred_rf2 = best_rf.predict(X_test)\n",
    "print(\"Random Forest Results\")\n",
    "print(classification_report(y_test, y_pred_rf2))"
   ]
  },
  {
   "cell_type": "code",
   "execution_count": 56,
   "id": "bb6dc488",
   "metadata": {
    "execution": {
     "iopub.execute_input": "2023-10-09T14:55:35.661371Z",
     "iopub.status.busy": "2023-10-09T14:55:35.660868Z",
     "iopub.status.idle": "2023-10-09T14:59:44.520825Z",
     "shell.execute_reply": "2023-10-09T14:59:44.519487Z"
    },
    "papermill": {
     "duration": 248.931953,
     "end_time": "2023-10-09T14:59:44.557312",
     "exception": false,
     "start_time": "2023-10-09T14:55:35.625359",
     "status": "completed"
    },
    "tags": []
   },
   "outputs": [
    {
     "name": "stdout",
     "output_type": "stream",
     "text": [
      "[CV] END ..max_depth=10, max_features=log2, n_estimators=450; total time=  15.3s\n",
      "[CV] END ..max_depth=10, max_features=log2, n_estimators=450; total time=  15.5s\n",
      "[CV] END ..max_depth=10, max_features=log2, n_estimators=450; total time=  15.0s\n",
      "[CV] END ..max_depth=20, max_features=sqrt, n_estimators=150; total time= 1.2min\n",
      "[CV] END ..max_depth=10, max_features=sqrt, n_estimators=150; total time=  16.9s\n",
      "[CV] END ..max_depth=40, max_features=log2, n_estimators=300; total time= 1.1min\n",
      "[CV] END ..max_depth=40, max_features=sqrt, n_estimators=150; total time= 3.1min\n",
      "[CV] END ..max_depth=40, max_features=log2, n_estimators=150; total time=  33.6s\n",
      "[CV] END ...max_depth=40, max_features=sqrt, n_estimators=50; total time= 1.0min\n",
      "[CV] END ...max_depth=10, max_features=sqrt, n_estimators=50; total time=   5.7s\n",
      "[CV] END ...max_depth=10, max_features=sqrt, n_estimators=50; total time=   5.8s\n",
      "[CV] END ...max_depth=10, max_features=sqrt, n_estimators=50; total time=   6.1s\n",
      "[CV] END ..max_depth=10, max_features=sqrt, n_estimators=150; total time=  16.8s\n",
      "[CV] END ..max_depth=10, max_features=sqrt, n_estimators=150; total time=  17.2s\n",
      "[CV] END ..max_depth=40, max_features=log2, n_estimators=300; total time= 1.1min\n",
      "[CV] END ..max_depth=40, max_features=sqrt, n_estimators=150; total time= 3.1min\n",
      "[CV] END ..max_depth=40, max_features=log2, n_estimators=150; total time=  33.5s\n",
      "[CV] END ...max_depth=40, max_features=sqrt, n_estimators=50; total time= 1.0min\n",
      "[CV] END ..max_depth=20, max_features=sqrt, n_estimators=150; total time= 1.2min\n",
      "[CV] END ..max_depth=40, max_features=log2, n_estimators=300; total time= 1.1min\n",
      "[CV] END ...max_depth=10, max_features=log2, n_estimators=50; total time=   2.0s\n",
      "[CV] END ...max_depth=10, max_features=log2, n_estimators=50; total time=   2.0s\n",
      "[CV] END ...max_depth=10, max_features=log2, n_estimators=50; total time=   2.0s\n",
      "[CV] END .max_depth=None, max_features=sqrt, n_estimators=50; total time= 1.6min\n",
      "[CV] END .max_depth=None, max_features=sqrt, n_estimators=50; total time= 1.5min\n",
      "[CV] END ..max_depth=40, max_features=log2, n_estimators=150; total time=  33.6s\n",
      "[CV] END ...max_depth=40, max_features=sqrt, n_estimators=50; total time= 1.0min\n",
      "[CV] END ..max_depth=20, max_features=sqrt, n_estimators=150; total time= 1.2min\n",
      "[CV] END ..max_depth=40, max_features=sqrt, n_estimators=150; total time= 3.1min\n",
      "[CV] END .max_depth=None, max_features=sqrt, n_estimators=50; total time= 1.3min\n",
      "Time to fit tuned rf  248.8533947467804\n"
     ]
    }
   ],
   "source": [
    "## For fair comparison, we want to also know the time taken to fit this new 'ideal' rf\n",
    "\n",
    "# save tuned hyperparameters \n",
    "best_params_rf_2 = random_search.best_params_\n",
    "\n",
    "# then init the rf model with the best params\n",
    "rf_2_tuned = RandomForestClassifier(**best_params_rf_2) ## need ** to unpack the dictionary\n",
    "\n",
    "## Time the duration for fitting\n",
    "s = time.time()\n",
    "rf_2_tuned.fit(X_train, y_train)\n",
    "time_for_rf_tuned = time.time() - s\n",
    "print('Time to fit tuned rf ', time_for_rf_tuned)"
   ]
  },
  {
   "cell_type": "markdown",
   "id": "b29afab8",
   "metadata": {
    "papermill": {
     "duration": 0.03459,
     "end_time": "2023-10-09T14:59:44.626035",
     "exception": false,
     "start_time": "2023-10-09T14:59:44.591445",
     "status": "completed"
    },
    "tags": []
   },
   "source": [
    "# Second set: Use different feature engineering -- TFIDF\n",
    "\n",
    "TFIDF gives more weight to terms that are frequent in a particular document but not in many documents across the board, and is a different way of vectorising a particular document apart from BoW which just counts the number of terms that is in a specific document, disregarding how common/uncommon it is in others. "
   ]
  },
  {
   "cell_type": "code",
   "execution_count": 57,
   "id": "afca346f",
   "metadata": {
    "execution": {
     "iopub.execute_input": "2023-10-09T14:59:44.699226Z",
     "iopub.status.busy": "2023-10-09T14:59:44.698604Z",
     "iopub.status.idle": "2023-10-09T15:04:12.716407Z",
     "shell.execute_reply": "2023-10-09T15:04:12.715616Z"
    },
    "papermill": {
     "duration": 268.091766,
     "end_time": "2023-10-09T15:04:12.752251",
     "exception": false,
     "start_time": "2023-10-09T14:59:44.660485",
     "status": "completed"
    },
    "tags": []
   },
   "outputs": [
    {
     "name": "stdout",
     "output_type": "stream",
     "text": [
      "Time to fit logistic regression: 3.232048511505127\n",
      "Time to fit SVM linear: 1.5320079326629639\n",
      "Time to fit Random Forest: 241.60369682312012\n"
     ]
    }
   ],
   "source": [
    "from sklearn.feature_extraction.text import TfidfVectorizer\n",
    "\n",
    "## Use the TfidfVectorizer -- same parameters are before \n",
    "vectoriser = TfidfVectorizer(min_df=100, \n",
    "                             max_df=0.90, \n",
    "                             stop_words='english', \n",
    "                             max_features=10000)\n",
    "\n",
    "X = vectoriser.fit_transform(preprocessed_text)\n",
    "\n",
    "y = data['label']\n",
    "## Same train test split \n",
    "X_train, X_test, y_train, y_test = train_test_split(X, y, test_size=0.2, random_state=42)\n",
    "\n",
    "# 1. Log Reg\n",
    "s = time.time()\n",
    "log_clf = LogisticRegression(max_iter=1000)\n",
    "log_clf.fit(X_train, y_train)\n",
    "time_for_logreg_tfidf = time.time() - s\n",
    "print(\"Time to fit logistic regression:\", time_for_logreg_tfidf)\n",
    "\n",
    "# 2. SVM Linear\n",
    "s = time.time()\n",
    "svm_linear_clf = LinearSVC(max_iter=1000)\n",
    "svm_linear_clf.fit(X_train, y_train)\n",
    "time_for_linear_svm_tfidf = time.time() - s\n",
    "print(\"Time to fit SVM linear:\", time_for_linear_svm_tfidf)\n",
    "\n",
    "\n",
    "# Random Forest\n",
    "s = time.time()\n",
    "rf_clf = RandomForestClassifier()\n",
    "rf_clf.fit(X_train, y_train)\n",
    "time_for_untuned_rf_tfidf = time.time() - s\n",
    "print(\"Time to fit Random Forest:\", time_for_untuned_rf_tfidf)"
   ]
  },
  {
   "cell_type": "code",
   "execution_count": 58,
   "id": "6c84af69",
   "metadata": {
    "execution": {
     "iopub.execute_input": "2023-10-09T15:04:12.823288Z",
     "iopub.status.busy": "2023-10-09T15:04:12.822832Z",
     "iopub.status.idle": "2023-10-09T15:04:14.191458Z",
     "shell.execute_reply": "2023-10-09T15:04:14.190340Z"
    },
    "papermill": {
     "duration": 1.406753,
     "end_time": "2023-10-09T15:04:14.193435",
     "exception": false,
     "start_time": "2023-10-09T15:04:12.786682",
     "status": "completed"
    },
    "tags": []
   },
   "outputs": [
    {
     "name": "stdout",
     "output_type": "stream",
     "text": [
      "Logistic Regression Results\n",
      "              precision    recall  f1-score   support\n",
      "\n",
      "           0       0.95      0.93      0.94      7089\n",
      "           1       0.94      0.95      0.94      7338\n",
      "\n",
      "    accuracy                           0.94     14427\n",
      "   macro avg       0.94      0.94      0.94     14427\n",
      "weighted avg       0.94      0.94      0.94     14427\n",
      "\n",
      "SVM Linear Results\n",
      "              precision    recall  f1-score   support\n",
      "\n",
      "           0       0.96      0.94      0.95      7089\n",
      "           1       0.95      0.96      0.95      7338\n",
      "\n",
      "    accuracy                           0.95     14427\n",
      "   macro avg       0.95      0.95      0.95     14427\n",
      "weighted avg       0.95      0.95      0.95     14427\n",
      "\n",
      "Random Forest Results\n",
      "              precision    recall  f1-score   support\n",
      "\n",
      "           0       0.96      0.94      0.95      7089\n",
      "           1       0.94      0.96      0.95      7338\n",
      "\n",
      "    accuracy                           0.95     14427\n",
      "   macro avg       0.95      0.95      0.95     14427\n",
      "weighted avg       0.95      0.95      0.95     14427\n",
      "\n"
     ]
    }
   ],
   "source": [
    "## Evaluation\n",
    "## Log reg\n",
    "y_pred_log = log_clf.predict(X_test)\n",
    "print(\"Logistic Regression Results\")\n",
    "print(classification_report(y_test, y_pred_log))\n",
    "\n",
    "## SVM\n",
    "y_pred_svm = svm_linear_clf.predict(X_test)\n",
    "print(\"SVM Linear Results\")\n",
    "print(classification_report(y_test, y_pred_svm))\n",
    "\n",
    "## RF \n",
    "y_pred_rf = rf_clf.predict(X_test)\n",
    "print(\"Random Forest Results\")\n",
    "print(classification_report(y_test, y_pred_rf))"
   ]
  },
  {
   "cell_type": "markdown",
   "id": "1941ec4d",
   "metadata": {
    "papermill": {
     "duration": 0.03543,
     "end_time": "2023-10-09T15:04:14.265283",
     "exception": false,
     "start_time": "2023-10-09T15:04:14.229853",
     "status": "completed"
    },
    "tags": []
   },
   "source": [
    "### Save the results so far"
   ]
  },
  {
   "cell_type": "code",
   "execution_count": 59,
   "id": "535b270c",
   "metadata": {
    "execution": {
     "iopub.execute_input": "2023-10-09T15:04:14.338091Z",
     "iopub.status.busy": "2023-10-09T15:04:14.337221Z",
     "iopub.status.idle": "2023-10-09T15:04:14.343046Z",
     "shell.execute_reply": "2023-10-09T15:04:14.341755Z"
    },
    "papermill": {
     "duration": 0.044607,
     "end_time": "2023-10-09T15:04:14.345545",
     "exception": false,
     "start_time": "2023-10-09T15:04:14.300938",
     "status": "completed"
    },
    "tags": []
   },
   "outputs": [],
   "source": [
    "## Time to train, manually save since I forgot to do so when fitting \n",
    "\n",
    "## Model prediction results \n",
    "acc_bow_logreg = .95\n",
    "acc_bow_svm = .94\n",
    "acc_bow_rf_untuned = .95\n",
    "acc_bow_rf_tuned = .94\n",
    "acc_tfidf_logreg = .94\n",
    "acc_tfidf_svm = .95\n",
    "acc_tfidf_rf_untuned = .95"
   ]
  },
  {
   "cell_type": "code",
   "execution_count": 60,
   "id": "a86c27ae",
   "metadata": {
    "execution": {
     "iopub.execute_input": "2023-10-09T15:04:14.418685Z",
     "iopub.status.busy": "2023-10-09T15:04:14.417467Z",
     "iopub.status.idle": "2023-10-09T15:04:14.425039Z",
     "shell.execute_reply": "2023-10-09T15:04:14.424241Z"
    },
    "papermill": {
     "duration": 0.046489,
     "end_time": "2023-10-09T15:04:14.427002",
     "exception": false,
     "start_time": "2023-10-09T15:04:14.380513",
     "status": "completed"
    },
    "tags": []
   },
   "outputs": [],
   "source": [
    "import pandas as pd\n",
    "\n",
    "model_comparisons = pd.DataFrame({\n",
    "    'Vector_type' : ['BOW']*4 + ['TFIDF']*3,\n",
    "    'Model': [\"Logistic reg\", 'SVM', 'RF', 'RF tuned', 'Logistic reg', 'SVM', 'RF'],\n",
    "    'Time_to_fit' : [time_for_logreg, time_for_linear_svm, time_for_rf_1, time_for_rf_tuned, time_for_logreg_tfidf, time_for_linear_svm_tfidf, time_for_untuned_rf_tfidf],\n",
    "    'Accuracy_score' : [acc_bow_logreg, acc_bow_svm, acc_bow_rf_untuned, acc_bow_rf_tuned, acc_tfidf_logreg, acc_tfidf_svm, acc_tfidf_rf_untuned],\n",
    "    'No_words_predictors' : 10000\n",
    "}\n",
    ")"
   ]
  },
  {
   "cell_type": "code",
   "execution_count": 61,
   "id": "9af5ff30",
   "metadata": {
    "execution": {
     "iopub.execute_input": "2023-10-09T15:04:14.498349Z",
     "iopub.status.busy": "2023-10-09T15:04:14.497566Z",
     "iopub.status.idle": "2023-10-09T15:04:14.507888Z",
     "shell.execute_reply": "2023-10-09T15:04:14.506859Z"
    },
    "papermill": {
     "duration": 0.04852,
     "end_time": "2023-10-09T15:04:14.509960",
     "exception": false,
     "start_time": "2023-10-09T15:04:14.461440",
     "status": "completed"
    },
    "tags": []
   },
   "outputs": [
    {
     "name": "stdout",
     "output_type": "stream",
     "text": [
      "  Vector_type         Model  Time_to_fit  Accuracy_score  No_words_predictors\n",
      "5       TFIDF           SVM     1.532008            0.95                10000\n",
      "4       TFIDF  Logistic reg     3.232049            0.94                10000\n",
      "0         BOW  Logistic reg    36.860884            0.95                10000\n",
      "6       TFIDF            RF   241.603697            0.95                10000\n",
      "3         BOW      RF tuned   248.853395            0.94                10000\n",
      "2         BOW            RF   274.742604            0.95                10000\n",
      "1         BOW           SVM   659.433240            0.94                10000\n"
     ]
    }
   ],
   "source": [
    "print(model_comparisons.sort_values('Time_to_fit', ascending = True))"
   ]
  },
  {
   "cell_type": "markdown",
   "id": "916d03b9",
   "metadata": {
    "papermill": {
     "duration": 0.035222,
     "end_time": "2023-10-09T15:04:14.580491",
     "exception": false,
     "start_time": "2023-10-09T15:04:14.545269",
     "status": "completed"
    },
    "tags": []
   },
   "source": [
    "# What if we had reduced the number of words/predictors to 5000 (i.e. halving the number of columns)?\n",
    "\n",
    "Will this still be enough information for our models to perform well?\n"
   ]
  },
  {
   "cell_type": "markdown",
   "id": "67796a42",
   "metadata": {
    "papermill": {
     "duration": 0.034463,
     "end_time": "2023-10-09T15:04:14.650976",
     "exception": false,
     "start_time": "2023-10-09T15:04:14.616513",
     "status": "completed"
    },
    "tags": []
   },
   "source": [
    "## BOW (5000 predictors)"
   ]
  },
  {
   "cell_type": "code",
   "execution_count": 62,
   "id": "7baf445a",
   "metadata": {
    "execution": {
     "iopub.execute_input": "2023-10-09T15:04:14.723154Z",
     "iopub.status.busy": "2023-10-09T15:04:14.722503Z",
     "iopub.status.idle": "2023-10-09T15:04:54.199769Z",
     "shell.execute_reply": "2023-10-09T15:04:54.198662Z"
    },
    "papermill": {
     "duration": 39.55321,
     "end_time": "2023-10-09T15:04:54.239011",
     "exception": false,
     "start_time": "2023-10-09T15:04:14.685801",
     "status": "completed"
    },
    "tags": []
   },
   "outputs": [
    {
     "name": "stdout",
     "output_type": "stream",
     "text": [
      "(72134, 5000)\n",
      "Time to fit logistic regression : 18.332072973251343\n"
     ]
    }
   ],
   "source": [
    "## Create instance of BOW vectoriser\n",
    "bow_vectoriser = CountVectorizer(min_df = 100, ## require a word to be in at least 100 documents\n",
    "                            max_df = 0.90, ## is a word appears in 90% or more of documents, then ignore, since it may be too common\n",
    "                            stop_words = 'english', ## use stopwords again, although we had used it from spacy already\n",
    "                            max_features = 5000) ## now half only\n",
    "\n",
    "## Apply vectorisers to data\n",
    "X = bow_vectoriser.fit_transform(preprocessed_text)\n",
    "\n",
    "## Check shape \n",
    "print(X.shape)\n",
    "\n",
    "## Train test split\n",
    "y = data['label']  # Assuming 'label' is the column with fake/real labels\n",
    "X_train, X_test, y_train, y_test = train_test_split(X, y, test_size=0.2, random_state=42)\n",
    "\n",
    "## FIT LOG REG MODEL ==========================================================\n",
    "s = time.time()\n",
    "log_clf_reduced_preds = LogisticRegression(max_iter=1000)  # Increased max_iter for convergence\n",
    "log_clf_reduced_preds.fit(X_train, y_train)\n",
    "print(\"Time to fit logistic regression :\", time.time() - s)"
   ]
  },
  {
   "cell_type": "code",
   "execution_count": 63,
   "id": "fd4287dc",
   "metadata": {
    "execution": {
     "iopub.execute_input": "2023-10-09T15:04:54.313820Z",
     "iopub.status.busy": "2023-10-09T15:04:54.313122Z",
     "iopub.status.idle": "2023-10-09T15:04:54.354718Z",
     "shell.execute_reply": "2023-10-09T15:04:54.353489Z"
    },
    "papermill": {
     "duration": 0.081145,
     "end_time": "2023-10-09T15:04:54.356719",
     "exception": false,
     "start_time": "2023-10-09T15:04:54.275574",
     "status": "completed"
    },
    "tags": []
   },
   "outputs": [
    {
     "name": "stdout",
     "output_type": "stream",
     "text": [
      "              precision    recall  f1-score   support\n",
      "\n",
      "           0       0.94      0.92      0.93      7089\n",
      "           1       0.92      0.94      0.93      7338\n",
      "\n",
      "    accuracy                           0.93     14427\n",
      "   macro avg       0.93      0.93      0.93     14427\n",
      "weighted avg       0.93      0.93      0.93     14427\n",
      "\n"
     ]
    }
   ],
   "source": [
    "## EVALUATE LOG REG MODEL --------------------------------------------------------\n",
    "from sklearn.metrics import classification_report\n",
    "y_pred_log_reg_reduced_preds = log_clf_reduced_preds.predict(X_test)\n",
    "print(classification_report(y_test, y_pred_log_reg_reduced_preds))"
   ]
  },
  {
   "cell_type": "markdown",
   "id": "d995b15a",
   "metadata": {
    "papermill": {
     "duration": 0.035024,
     "end_time": "2023-10-09T15:04:54.427254",
     "exception": false,
     "start_time": "2023-10-09T15:04:54.392230",
     "status": "completed"
    },
    "tags": []
   },
   "source": [
    "## TFIDF (5000 predictors)"
   ]
  },
  {
   "cell_type": "code",
   "execution_count": 64,
   "id": "3ea7f763",
   "metadata": {
    "execution": {
     "iopub.execute_input": "2023-10-09T15:04:54.499528Z",
     "iopub.status.busy": "2023-10-09T15:04:54.498400Z",
     "iopub.status.idle": "2023-10-09T15:05:19.733994Z",
     "shell.execute_reply": "2023-10-09T15:05:19.732726Z"
    },
    "papermill": {
     "duration": 25.273862,
     "end_time": "2023-10-09T15:05:19.736288",
     "exception": false,
     "start_time": "2023-10-09T15:04:54.462426",
     "status": "completed"
    },
    "tags": []
   },
   "outputs": [
    {
     "name": "stdout",
     "output_type": "stream",
     "text": [
      "Time to fit logistic regression: 3.5096435546875\n"
     ]
    }
   ],
   "source": [
    "from sklearn.feature_extraction.text import TfidfVectorizer\n",
    "\n",
    "## Use the TfidfVectorizer -- same parameters are before \n",
    "vectoriser = TfidfVectorizer(min_df=100, \n",
    "                             max_df=0.90, \n",
    "                             stop_words='english', \n",
    "                             max_features=5000)\n",
    "\n",
    "X = vectoriser.fit_transform(preprocessed_text)\n",
    "\n",
    "y = data['label']\n",
    "## Same train test split \n",
    "X_train, X_test, y_train, y_test = train_test_split(X, y, test_size=0.2, random_state=42)\n",
    "\n",
    "# 1. Log Reg\n",
    "s = time.time()\n",
    "log_clf = LogisticRegression(max_iter=1000)\n",
    "log_clf.fit(X_train, y_train)\n",
    "print(\"Time to fit logistic regression:\", time.time() - s)\n",
    "\n"
   ]
  },
  {
   "cell_type": "code",
   "execution_count": 65,
   "id": "5463d080",
   "metadata": {
    "execution": {
     "iopub.execute_input": "2023-10-09T15:05:19.808140Z",
     "iopub.status.busy": "2023-10-09T15:05:19.807560Z",
     "iopub.status.idle": "2023-10-09T15:05:19.847060Z",
     "shell.execute_reply": "2023-10-09T15:05:19.845963Z"
    },
    "papermill": {
     "duration": 0.077542,
     "end_time": "2023-10-09T15:05:19.849150",
     "exception": false,
     "start_time": "2023-10-09T15:05:19.771608",
     "status": "completed"
    },
    "tags": []
   },
   "outputs": [
    {
     "name": "stdout",
     "output_type": "stream",
     "text": [
      "              precision    recall  f1-score   support\n",
      "\n",
      "           0       0.94      0.93      0.94      7089\n",
      "           1       0.93      0.95      0.94      7338\n",
      "\n",
      "    accuracy                           0.94     14427\n",
      "   macro avg       0.94      0.94      0.94     14427\n",
      "weighted avg       0.94      0.94      0.94     14427\n",
      "\n"
     ]
    }
   ],
   "source": [
    "## EVALUATE LOG REG MODEL --------------------------------------------------------\n",
    "from sklearn.metrics import classification_report\n",
    "y_pred_log_reg_reduced_preds = log_clf.predict(X_test)\n",
    "print(classification_report(y_test, y_pred_log_reg_reduced_preds))"
   ]
  },
  {
   "cell_type": "markdown",
   "id": "44e69ebb",
   "metadata": {
    "papermill": {
     "duration": 0.03456,
     "end_time": "2023-10-09T15:05:19.985684",
     "exception": false,
     "start_time": "2023-10-09T15:05:19.951124",
     "status": "completed"
    },
    "tags": []
   },
   "source": [
    "### When feature space was reduced by half, \n",
    "\n",
    "* Logistic regression did not really suffer much in terms of time taken to fit or accuracy \n",
    "* TFIDF seemed to work better (slightly) than BOW, and this makes sense since TFIDF captures more information than BOW. "
   ]
  },
  {
   "cell_type": "markdown",
   "id": "d99cf719",
   "metadata": {
    "papermill": {
     "duration": 0.034836,
     "end_time": "2023-10-09T15:05:20.055539",
     "exception": false,
     "start_time": "2023-10-09T15:05:20.020703",
     "status": "completed"
    },
    "tags": []
   },
   "source": [
    "# Word embedding methods "
   ]
  },
  {
   "cell_type": "markdown",
   "id": "81bac898",
   "metadata": {
    "papermill": {
     "duration": 0.034954,
     "end_time": "2023-10-09T15:05:20.125514",
     "exception": false,
     "start_time": "2023-10-09T15:05:20.090560",
     "status": "completed"
    },
    "tags": []
   },
   "source": [
    "Instead of using methods that vectorise the documents based on words, essentially treating words to be independent (as independent predictors), we try to capture some semantics and meanings of the words instead to see if we can improve the model."
   ]
  },
  {
   "cell_type": "markdown",
   "id": "cc394b70",
   "metadata": {
    "papermill": {
     "duration": 0.034595,
     "end_time": "2023-10-09T15:05:20.195295",
     "exception": false,
     "start_time": "2023-10-09T15:05:20.160700",
     "status": "completed"
    },
    "tags": []
   },
   "source": [
    "## 1. Using pre-trained word embeddings\n",
    "\n",
    "We will try to use the GloVe model. GloVe was developed for generating word embeddings, and designed to get semantic relationships between words. Therefore in this space, words with similar meanings will tend to be closer in this new feature space. "
   ]
  },
  {
   "cell_type": "code",
   "execution_count": 66,
   "id": "546fdd90",
   "metadata": {
    "execution": {
     "iopub.execute_input": "2023-10-09T15:05:20.270692Z",
     "iopub.status.busy": "2023-10-09T15:05:20.269946Z",
     "iopub.status.idle": "2023-10-09T15:06:37.005249Z",
     "shell.execute_reply": "2023-10-09T15:06:37.004082Z"
    },
    "papermill": {
     "duration": 76.776625,
     "end_time": "2023-10-09T15:06:37.007866",
     "exception": false,
     "start_time": "2023-10-09T15:05:20.231241",
     "status": "completed"
    },
    "tags": []
   },
   "outputs": [
    {
     "name": "stdout",
     "output_type": "stream",
     "text": [
      "[==================================================] 100.0% 128.1/128.1MB downloaded\n"
     ]
    }
   ],
   "source": [
    "import gensim.downloader \n",
    "\n",
    "glove_model = gensim.downloader.load('glove-wiki-gigaword-100')\n",
    "\n"
   ]
  },
  {
   "cell_type": "code",
   "execution_count": 67,
   "id": "f6c84527",
   "metadata": {
    "execution": {
     "iopub.execute_input": "2023-10-09T15:06:38.854394Z",
     "iopub.status.busy": "2023-10-09T15:06:38.854023Z",
     "iopub.status.idle": "2023-10-09T15:06:38.859037Z",
     "shell.execute_reply": "2023-10-09T15:06:38.857977Z"
    },
    "papermill": {
     "duration": 0.886663,
     "end_time": "2023-10-09T15:06:38.861282",
     "exception": false,
     "start_time": "2023-10-09T15:06:37.974619",
     "status": "completed"
    },
    "tags": []
   },
   "outputs": [
    {
     "name": "stdout",
     "output_type": "stream",
     "text": [
      "Vector sizes are  100\n"
     ]
    }
   ],
   "source": [
    "## Check some stuff from glove \n",
    "print('Vector sizes are ', glove_model.vector_size) ## 100 dim for feature space -- just nice?\n"
   ]
  },
  {
   "cell_type": "markdown",
   "id": "307d20c1",
   "metadata": {
    "papermill": {
     "duration": 0.930383,
     "end_time": "2023-10-09T15:06:40.729437",
     "exception": false,
     "start_time": "2023-10-09T15:06:39.799054",
     "status": "completed"
    },
    "tags": []
   },
   "source": [
    "Our feature space is 100 dimensions -- when compared to the dimensions of BoW and TFIDF where we had chosen to include about 10k words (dimensions), this is considered small"
   ]
  },
  {
   "cell_type": "markdown",
   "id": "abb2853d",
   "metadata": {
    "papermill": {
     "duration": 0.941785,
     "end_time": "2023-10-09T15:06:42.536289",
     "exception": false,
     "start_time": "2023-10-09T15:06:41.594504",
     "status": "completed"
    },
    "tags": []
   },
   "source": [
    "We can test this out by checking the cosine similarity (how similar two words are in the feature space)."
   ]
  },
  {
   "cell_type": "code",
   "execution_count": 68,
   "id": "79a79030",
   "metadata": {
    "execution": {
     "iopub.execute_input": "2023-10-09T15:06:44.467037Z",
     "iopub.status.busy": "2023-10-09T15:06:44.466596Z",
     "iopub.status.idle": "2023-10-09T15:06:44.478407Z",
     "shell.execute_reply": "2023-10-09T15:06:44.477371Z"
    },
    "papermill": {
     "duration": 0.948648,
     "end_time": "2023-10-09T15:06:44.480185",
     "exception": false,
     "start_time": "2023-10-09T15:06:43.531537",
     "status": "completed"
    },
    "tags": []
   },
   "outputs": [
    {
     "name": "stdout",
     "output_type": "stream",
     "text": [
      "cosine sim between \"word\" and \"sentence\"  [0.4031449]\n",
      "cosine sim between \"word\" and \"potato\"  [0.2914069]\n"
     ]
    },
    {
     "data": {
      "text/plain": [
       "array([0.5054469 , 0.4017795 , 0.04679427, 0.08940844], dtype=float32)"
      ]
     },
     "execution_count": 68,
     "metadata": {},
     "output_type": "execute_result"
    }
   ],
   "source": [
    "## Test it out -- get word vectors\n",
    "word_vec =glove_model['word']\n",
    "sent_vec =glove_model['sentence']\n",
    "\n",
    "## shape \n",
    "glove_model['word'].shape ## 100 column space that the words exist in \n",
    "\n",
    "## Test similarity \n",
    "print('cosine sim between \"word\" and \"sentence\" ', glove_model.cosine_similarities(word_vec, [sent_vec]))\n",
    "print('cosine sim between \"word\" and \"potato\" ', glove_model.cosine_similarities(word_vec, [glove_model['potato']]))\n",
    "\n",
    "## Test on multiple words \n",
    "glove_model.cosine_similarities(word_vec, [glove_model['potato'], \n",
    "                                          glove_model['car'],\n",
    "                                          glove_model['language']])\n",
    "\n",
    "## Test on the word banana\n",
    "glove_model.cosine_similarities(glove_model['banana'], [glove_model['apple'],\n",
    "                                                       glove_model['food'],\n",
    "                                                       glove_model['object'],\n",
    "                                                       glove_model['computers']])\n",
    "## result -- the words get less and less related\n",
    "\n"
   ]
  },
  {
   "cell_type": "code",
   "execution_count": 69,
   "id": "fba59cea",
   "metadata": {
    "execution": {
     "iopub.execute_input": "2023-10-09T15:06:46.262264Z",
     "iopub.status.busy": "2023-10-09T15:06:46.261435Z",
     "iopub.status.idle": "2023-10-09T15:06:46.278851Z",
     "shell.execute_reply": "2023-10-09T15:06:46.277679Z"
    },
    "papermill": {
     "duration": 0.947544,
     "end_time": "2023-10-09T15:06:46.280694",
     "exception": false,
     "start_time": "2023-10-09T15:06:45.333150",
     "status": "completed"
    },
    "tags": []
   },
   "outputs": [
    {
     "name": "stdout",
     "output_type": "stream",
     "text": [
      "<class 'dict'>\n",
      "Size of vocab  400.0  thousand\n"
     ]
    }
   ],
   "source": [
    "## Checking that word exists in the vocab\n",
    "glove_vocab = glove_model.key_to_index\n",
    "\n",
    "## Check type \n",
    "print(type(glove_vocab)) ## glove_vocab is a dictionary instead of a list \n",
    "\n",
    "## Get vocab size\n",
    "print('Size of vocab ', len(glove_vocab)/1000, ' thousand')\n",
    "\n",
    "## See some words\n",
    "list_of_keys = list(glove_vocab.keys())\n",
    "list_of_values = list(glove_vocab.values())\n"
   ]
  },
  {
   "cell_type": "code",
   "execution_count": 70,
   "id": "cfaec837",
   "metadata": {
    "execution": {
     "iopub.execute_input": "2023-10-09T15:06:48.083945Z",
     "iopub.status.busy": "2023-10-09T15:06:48.083321Z",
     "iopub.status.idle": "2023-10-09T15:06:48.089792Z",
     "shell.execute_reply": "2023-10-09T15:06:48.088620Z"
    },
    "papermill": {
     "duration": 0.951414,
     "end_time": "2023-10-09T15:06:48.092149",
     "exception": false,
     "start_time": "2023-10-09T15:06:47.140735",
     "status": "completed"
    },
    "tags": []
   },
   "outputs": [
    {
     "name": "stdout",
     "output_type": "stream",
     "text": [
      "['the', ',', '.', 'of', 'to', 'and', 'in', 'a', '\"', \"'s\"]\n",
      "[0, 1, 2, 3, 4, 5, 6, 7, 8, 9]\n"
     ]
    }
   ],
   "source": [
    "## Take a peek at the keys and values of the vocab\n",
    "print(list_of_keys[0:10])\n",
    "print(list_of_values[0:10])"
   ]
  },
  {
   "cell_type": "markdown",
   "id": "afb5a22b",
   "metadata": {
    "papermill": {
     "duration": 0.853614,
     "end_time": "2023-10-09T15:06:49.894262",
     "exception": false,
     "start_time": "2023-10-09T15:06:49.040648",
     "status": "completed"
    },
    "tags": []
   },
   "source": [
    "Interestingly, **punctuations also have embeddings**, as seen above. Let us take a closer look at those embeddings and find similar 'tokens' to the punctuations."
   ]
  },
  {
   "cell_type": "code",
   "execution_count": 71,
   "id": "aca46772",
   "metadata": {
    "execution": {
     "iopub.execute_input": "2023-10-09T15:06:51.676258Z",
     "iopub.status.busy": "2023-10-09T15:06:51.675601Z",
     "iopub.status.idle": "2023-10-09T15:06:51.681947Z",
     "shell.execute_reply": "2023-10-09T15:06:51.680969Z"
    },
    "papermill": {
     "duration": 0.863021,
     "end_time": "2023-10-09T15:06:51.683943",
     "exception": false,
     "start_time": "2023-10-09T15:06:50.820922",
     "status": "completed"
    },
    "tags": []
   },
   "outputs": [
    {
     "name": "stdout",
     "output_type": "stream",
     "text": [
      "Cos sim btn \",\" and \".\"  26.550135\n",
      "Cos sim btn \",\" and \"?\"  20.919863\n",
      "Cos sim btn \",\" and \"hello\"  4.4000187\n",
      "Cos sim btn \",\" and \"pause\"  5.9220767\n",
      "Cos sim btn \",\" and \"comma\"  5.9220767\n"
     ]
    }
   ],
   "source": [
    "import numpy as np\n",
    "\n",
    "## Word embedding for comma \n",
    "glove_model[',']\n",
    "## Cosine similarities btn punctuations \n",
    "print('Cos sim btn \",\" and \".\" ', np.dot(glove_model[','], glove_model['.']))\n",
    "print('Cos sim btn \",\" and \"?\" ', np.dot(glove_model[','], glove_model['?']))\n",
    "\n",
    "## Cosine similarities btn punctuations and words \n",
    "print('Cos sim btn \",\" and \"hello\" ', np.dot(glove_model[','], glove_model['hello']))\n",
    "print('Cos sim btn \",\" and \"pause\" ', np.dot(glove_model[','], glove_model['pause']))\n",
    "print('Cos sim btn \",\" and \"comma\" ', np.dot(glove_model[','], glove_model['pause']))"
   ]
  },
  {
   "cell_type": "code",
   "execution_count": 72,
   "id": "41ffd6df",
   "metadata": {
    "execution": {
     "iopub.execute_input": "2023-10-09T15:06:53.570278Z",
     "iopub.status.busy": "2023-10-09T15:06:53.569812Z",
     "iopub.status.idle": "2023-10-09T15:06:53.676389Z",
     "shell.execute_reply": "2023-10-09T15:06:53.674610Z"
    },
    "papermill": {
     "duration": 1.068399,
     "end_time": "2023-10-09T15:06:53.680241",
     "exception": false,
     "start_time": "2023-10-09T15:06:52.611842",
     "status": "completed"
    },
    "tags": []
   },
   "outputs": [
    {
     "data": {
      "text/plain": [
       "[('and', 0.8781740665435791),\n",
       " ('.', 0.8755987882614136),\n",
       " ('while', 0.8525034785270691),\n",
       " ('but', 0.8338185548782349),\n",
       " ('as', 0.8283949494361877),\n",
       " ('also', 0.8065630197525024),\n",
       " ('now', 0.8026498556137085),\n",
       " ('well', 0.8003395199775696),\n",
       " ('one', 0.7802436947822571),\n",
       " ('with', 0.779920220375061)]"
      ]
     },
     "execution_count": 72,
     "metadata": {},
     "output_type": "execute_result"
    }
   ],
   "source": [
    "## Most similar terms to comma\n",
    "glove_model.similar_by_word(\",\")"
   ]
  },
  {
   "cell_type": "markdown",
   "id": "b3e5bece",
   "metadata": {
    "papermill": {
     "duration": 0.860848,
     "end_time": "2023-10-09T15:06:55.546161",
     "exception": false,
     "start_time": "2023-10-09T15:06:54.685313",
     "status": "completed"
    },
    "tags": []
   },
   "source": [
    "# Third feature engineering: use the average word embedding of the sentence from GloVe"
   ]
  },
  {
   "cell_type": "markdown",
   "id": "afa7930b",
   "metadata": {
    "papermill": {
     "duration": 0.869961,
     "end_time": "2023-10-09T15:06:57.349470",
     "exception": false,
     "start_time": "2023-10-09T15:06:56.479509",
     "status": "completed"
    },
    "tags": []
   },
   "source": [
    "First, we need to turn the texts into word vectors, since each text has multiple words. This would result in many vectors -- for simplicity, we will take the average of the vectors to result in a single vector for each text. This has some limitations, since it may 'dilute' the meaning of certain important words, but we will go ahead with this for now. "
   ]
  },
  {
   "cell_type": "code",
   "execution_count": 73,
   "id": "7da882db",
   "metadata": {
    "execution": {
     "iopub.execute_input": "2023-10-09T15:06:59.138302Z",
     "iopub.status.busy": "2023-10-09T15:06:59.137382Z",
     "iopub.status.idle": "2023-10-09T15:06:59.143447Z",
     "shell.execute_reply": "2023-10-09T15:06:59.142531Z"
    },
    "papermill": {
     "duration": 0.862409,
     "end_time": "2023-10-09T15:06:59.145262",
     "exception": false,
     "start_time": "2023-10-09T15:06:58.282853",
     "status": "completed"
    },
    "tags": []
   },
   "outputs": [],
   "source": [
    "def get_avg_embedding(text): ## Takes in a single text, instead of a list of texts \n",
    "    ## Tokenise first, get indiv words \n",
    "    words = text.split()\n",
    "    \n",
    "    ## Get list of word vectors (this would result in many word vectors)\n",
    "    vectors = [glove_model[word] for word in words if word in glove_vocab] ## make sure that the word is covered by the model\n",
    "    \n",
    "    ## Normalise the vectors for each word \n",
    "    normalised_vectors = [vector/np.linalg.norm(vector) for vector in vectors] if vectors else None ## If there was no vector in vectors, then return None\n",
    "    \n",
    "    ## Take the average of all \n",
    "    avg_vector = sum(normalised_vectors)/len(normalised_vectors) if normalised_vectors else None\n",
    "    \n",
    "    return(avg_vector)\n",
    "\n",
    "## Since we allowed for None in cases where there was no vector (this happens if \n",
    "# the text had no words that was recognised by the Glove Model), we should make sure\n",
    "# to check the list of avg embeddings to see if there are empty vectors"
   ]
  },
  {
   "cell_type": "code",
   "execution_count": 74,
   "id": "df487031",
   "metadata": {
    "execution": {
     "iopub.execute_input": "2023-10-09T15:07:01.011348Z",
     "iopub.status.busy": "2023-10-09T15:07:01.010989Z",
     "iopub.status.idle": "2023-10-09T15:09:29.772050Z",
     "shell.execute_reply": "2023-10-09T15:09:29.770964Z"
    },
    "papermill": {
     "duration": 150.548331,
     "end_time": "2023-10-09T15:09:30.628288",
     "exception": false,
     "start_time": "2023-10-09T15:07:00.079957",
     "status": "completed"
    },
    "tags": []
   },
   "outputs": [
    {
     "name": "stdout",
     "output_type": "stream",
     "text": [
      "Time taken to get avg embeddings, via list comprehension method 148.75571036338806\n"
     ]
    }
   ],
   "source": [
    "s = time.time()\n",
    "avg_embeddings_X = [get_avg_embedding(text) for text in preprocessed_texts]\n",
    "print('Time taken to get avg embeddings, via list comprehension method', time.time()- s)"
   ]
  },
  {
   "cell_type": "markdown",
   "id": "95cab2bf",
   "metadata": {
    "papermill": {
     "duration": 0.93513,
     "end_time": "2023-10-09T15:09:32.495008",
     "exception": false,
     "start_time": "2023-10-09T15:09:31.559878",
     "status": "completed"
    },
    "tags": []
   },
   "source": [
    "This is essentially using a for loop in the list comprehension, which is very slow. A faster way would be to use a parallelised method, under the package 'pandarallel', that complements the Pandas framework. Let us see if it is faster. "
   ]
  },
  {
   "cell_type": "code",
   "execution_count": 75,
   "id": "d69b96d5",
   "metadata": {
    "execution": {
     "iopub.execute_input": "2023-10-09T15:09:34.320502Z",
     "iopub.status.busy": "2023-10-09T15:09:34.320131Z",
     "iopub.status.idle": "2023-10-09T15:09:47.952206Z",
     "shell.execute_reply": "2023-10-09T15:09:47.950696Z"
    },
    "papermill": {
     "duration": 14.568039,
     "end_time": "2023-10-09T15:09:47.954483",
     "exception": false,
     "start_time": "2023-10-09T15:09:33.386444",
     "status": "completed"
    },
    "tags": []
   },
   "outputs": [
    {
     "name": "stdout",
     "output_type": "stream",
     "text": [
      "Collecting pandarallel\r\n",
      "  Downloading pandarallel-1.6.5.tar.gz (14 kB)\r\n",
      "  Preparing metadata (setup.py) ... \u001b[?25l-\b \bdone\r\n",
      "\u001b[?25hRequirement already satisfied: dill>=0.3.1 in /opt/conda/lib/python3.10/site-packages (from pandarallel) (0.3.7)\r\n",
      "Requirement already satisfied: pandas>=1 in /opt/conda/lib/python3.10/site-packages (from pandarallel) (2.0.3)\r\n",
      "Requirement already satisfied: psutil in /opt/conda/lib/python3.10/site-packages (from pandarallel) (5.9.3)\r\n",
      "Requirement already satisfied: python-dateutil>=2.8.2 in /opt/conda/lib/python3.10/site-packages (from pandas>=1->pandarallel) (2.8.2)\r\n",
      "Requirement already satisfied: pytz>=2020.1 in /opt/conda/lib/python3.10/site-packages (from pandas>=1->pandarallel) (2023.3)\r\n",
      "Requirement already satisfied: tzdata>=2022.1 in /opt/conda/lib/python3.10/site-packages (from pandas>=1->pandarallel) (2023.3)\r\n",
      "Requirement already satisfied: numpy>=1.21.0 in /opt/conda/lib/python3.10/site-packages (from pandas>=1->pandarallel) (1.23.5)\r\n",
      "Requirement already satisfied: six>=1.5 in /opt/conda/lib/python3.10/site-packages (from python-dateutil>=2.8.2->pandas>=1->pandarallel) (1.16.0)\r\n",
      "Building wheels for collected packages: pandarallel\r\n",
      "  Building wheel for pandarallel (setup.py) ... \u001b[?25l-\b \b\\\b \bdone\r\n",
      "\u001b[?25h  Created wheel for pandarallel: filename=pandarallel-1.6.5-py3-none-any.whl size=16677 sha256=0a29c32d6bba195a0bcb33f4f3a638dcdd7a1e9be94aa4650892622b85c9929e\r\n",
      "  Stored in directory: /root/.cache/pip/wheels/50/4f/1e/34e057bb868842209f1623f195b74fd7eda229308a7352d47f\r\n",
      "Successfully built pandarallel\r\n",
      "Installing collected packages: pandarallel\r\n",
      "Successfully installed pandarallel-1.6.5\r\n",
      "Note: you may need to restart the kernel to use updated packages.\n"
     ]
    }
   ],
   "source": [
    "pip install pandarallel"
   ]
  },
  {
   "cell_type": "code",
   "execution_count": 76,
   "id": "005c27ba",
   "metadata": {
    "execution": {
     "iopub.execute_input": "2023-10-09T15:09:49.737362Z",
     "iopub.status.busy": "2023-10-09T15:09:49.736987Z",
     "iopub.status.idle": "2023-10-09T15:09:50.616625Z",
     "shell.execute_reply": "2023-10-09T15:09:50.615613Z"
    },
    "papermill": {
     "duration": 1.81162,
     "end_time": "2023-10-09T15:09:50.618545",
     "exception": false,
     "start_time": "2023-10-09T15:09:48.806925",
     "status": "completed"
    },
    "tags": []
   },
   "outputs": [
    {
     "name": "stdout",
     "output_type": "stream",
     "text": [
      "INFO: Pandarallel will run on 2 workers.\n",
      "INFO: Pandarallel will use Memory file system to transfer data between the main process and workers.\n"
     ]
    }
   ],
   "source": [
    "from pandarallel import pandarallel\n",
    "\n",
    "pandarallel.initialize(progress_bar=True)"
   ]
  },
  {
   "cell_type": "code",
   "execution_count": 77,
   "id": "c118876a",
   "metadata": {
    "execution": {
     "iopub.execute_input": "2023-10-09T15:09:52.468523Z",
     "iopub.status.busy": "2023-10-09T15:09:52.468177Z",
     "iopub.status.idle": "2023-10-09T15:11:17.578638Z",
     "shell.execute_reply": "2023-10-09T15:11:17.577523Z"
    },
    "papermill": {
     "duration": 85.991484,
     "end_time": "2023-10-09T15:11:17.580967",
     "exception": false,
     "start_time": "2023-10-09T15:09:51.589483",
     "status": "completed"
    },
    "tags": []
   },
   "outputs": [
    {
     "data": {
      "application/vnd.jupyter.widget-view+json": {
       "model_id": "4a49e2f5ce6241909edd180876a67a49",
       "version_major": 2,
       "version_minor": 0
      },
      "text/plain": [
       "VBox(children=(HBox(children=(IntProgress(value=0, description='0.00%', max=36067), Label(value='0 / 36067')))…"
      ]
     },
     "metadata": {},
     "output_type": "display_data"
    },
    {
     "name": "stdout",
     "output_type": "stream",
     "text": [
      "Time taken to get avg embeddings, via pandarallel method 85.10312128067017\n"
     ]
    }
   ],
   "source": [
    "s = time.time()\n",
    "data['avg_embeddings'] = data.Full_text_cleaned.parallel_apply(get_avg_embedding)\n",
    "time_for_pandarallel = time.time() - s\n",
    "print('Time taken to get avg embeddings, via pandarallel method', time_for_pandarallel)"
   ]
  },
  {
   "cell_type": "code",
   "execution_count": 78,
   "id": "90fbf798",
   "metadata": {
    "execution": {
     "iopub.execute_input": "2023-10-09T15:11:19.448141Z",
     "iopub.status.busy": "2023-10-09T15:11:19.447332Z",
     "iopub.status.idle": "2023-10-09T15:11:19.454014Z",
     "shell.execute_reply": "2023-10-09T15:11:19.452983Z"
    },
    "papermill": {
     "duration": 0.942495,
     "end_time": "2023-10-09T15:11:19.456004",
     "exception": false,
     "start_time": "2023-10-09T15:11:18.513509",
     "status": "completed"
    },
    "tags": []
   },
   "outputs": [
    {
     "name": "stdout",
     "output_type": "stream",
     "text": [
      "Percentage decrease in time taken  50.521441115889445  %\n"
     ]
    }
   ],
   "source": [
    "print('Percentage decrease in time taken ', (172 - time_for_pandarallel)/172 * 100, ' %') "
   ]
  },
  {
   "cell_type": "markdown",
   "id": "2ed53a88",
   "metadata": {
    "papermill": {
     "duration": 0.848676,
     "end_time": "2023-10-09T15:11:21.230161",
     "exception": false,
     "start_time": "2023-10-09T15:11:20.381485",
     "status": "completed"
    },
    "tags": []
   },
   "source": [
    "Therefore pandarallel makes a significant reduction in time taken to get the average vector representation of the text. "
   ]
  },
  {
   "cell_type": "markdown",
   "id": "d30f1cef",
   "metadata": {
    "papermill": {
     "duration": 0.85629,
     "end_time": "2023-10-09T15:11:23.019404",
     "exception": false,
     "start_time": "2023-10-09T15:11:22.163114",
     "status": "completed"
    },
    "tags": []
   },
   "source": [
    "Check results of the embedding process"
   ]
  },
  {
   "cell_type": "code",
   "execution_count": 79,
   "id": "ba2677eb",
   "metadata": {
    "execution": {
     "iopub.execute_input": "2023-10-09T15:11:24.848309Z",
     "iopub.status.busy": "2023-10-09T15:11:24.847925Z",
     "iopub.status.idle": "2023-10-09T15:11:24.856216Z",
     "shell.execute_reply": "2023-10-09T15:11:24.855132Z"
    },
    "papermill": {
     "duration": 0.872899,
     "end_time": "2023-10-09T15:11:24.858771",
     "exception": false,
     "start_time": "2023-10-09T15:11:23.985872",
     "status": "completed"
    },
    "tags": []
   },
   "outputs": [
    {
     "name": "stdout",
     "output_type": "stream",
     "text": [
      "<class 'list'>\n",
      "72134\n",
      "<class 'numpy.ndarray'>\n"
     ]
    },
    {
     "data": {
      "text/plain": [
       "(100,)"
      ]
     },
     "execution_count": 79,
     "metadata": {},
     "output_type": "execute_result"
    }
   ],
   "source": [
    "print(type(avg_embeddings_X))\n",
    "print(len(avg_embeddings_X)) ## this is the number of documents \n",
    "\n",
    "## Look at one of the embeddings \n",
    "print(type(avg_embeddings_X[0])) ## List of np.arrays\n",
    "avg_embeddings_X[0].shape ## Each embedding has 100 length, as expected "
   ]
  },
  {
   "cell_type": "code",
   "execution_count": 80,
   "id": "daa6b4ad",
   "metadata": {
    "execution": {
     "iopub.execute_input": "2023-10-09T15:11:26.731073Z",
     "iopub.status.busy": "2023-10-09T15:11:26.730382Z",
     "iopub.status.idle": "2023-10-09T15:11:26.750257Z",
     "shell.execute_reply": "2023-10-09T15:11:26.748938Z"
    },
    "papermill": {
     "duration": 0.961782,
     "end_time": "2023-10-09T15:11:26.752370",
     "exception": false,
     "start_time": "2023-10-09T15:11:25.790588",
     "status": "completed"
    },
    "tags": []
   },
   "outputs": [
    {
     "name": "stdout",
     "output_type": "stream",
     "text": [
      "None\n",
      "None in DF  13\n",
      "None in list  13\n"
     ]
    }
   ],
   "source": [
    "## Check if any vector is empty or None \n",
    "\n",
    "## Recall that if the words in our text dont exist in the glove vocab, the function returns None\n",
    "## Test the function on some gibberish and see if it returns None\n",
    "print(get_avg_embedding(\"sdjfas fasdfjsdfsajfls\"))\n",
    "\n",
    "## Check if there are any None(s) in our result (from the df version)\n",
    "print(\"None in DF \", data.avg_embeddings.isna().sum())\n",
    "\n",
    "## Check again from the list version\n",
    "print(\"None in list \", sum(1 for vec in avg_embeddings_X if vec is None))"
   ]
  },
  {
   "cell_type": "markdown",
   "id": "752af8d6",
   "metadata": {
    "papermill": {
     "duration": 0.943712,
     "end_time": "2023-10-09T15:11:28.600244",
     "exception": false,
     "start_time": "2023-10-09T15:11:27.656532",
     "status": "completed"
    },
    "tags": []
   },
   "source": [
    "Turns out that there are missing vectors, possibly due to unrecgonised words. Let us take a closer look at them "
   ]
  },
  {
   "cell_type": "code",
   "execution_count": 81,
   "id": "f71676fb",
   "metadata": {
    "execution": {
     "iopub.execute_input": "2023-10-09T15:11:30.391885Z",
     "iopub.status.busy": "2023-10-09T15:11:30.390863Z",
     "iopub.status.idle": "2023-10-09T15:11:30.410495Z",
     "shell.execute_reply": "2023-10-09T15:11:30.409109Z"
    },
    "papermill": {
     "duration": 0.874292,
     "end_time": "2023-10-09T15:11:30.412766",
     "exception": false,
     "start_time": "2023-10-09T15:11:29.538474",
     "status": "completed"
    },
    "tags": []
   },
   "outputs": [
    {
     "data": {
      "text/html": [
       "<div>\n",
       "<style scoped>\n",
       "    .dataframe tbody tr th:only-of-type {\n",
       "        vertical-align: middle;\n",
       "    }\n",
       "\n",
       "    .dataframe tbody tr th {\n",
       "        vertical-align: top;\n",
       "    }\n",
       "\n",
       "    .dataframe thead th {\n",
       "        text-align: right;\n",
       "    }\n",
       "</style>\n",
       "<table border=\"1\" class=\"dataframe\">\n",
       "  <thead>\n",
       "    <tr style=\"text-align: right;\">\n",
       "      <th></th>\n",
       "      <th>Full_text</th>\n",
       "      <th>Full_text_cleaned</th>\n",
       "      <th>label</th>\n",
       "      <th>avg_embeddings</th>\n",
       "    </tr>\n",
       "  </thead>\n",
       "  <tbody>\n",
       "    <tr>\n",
       "      <th>795</th>\n",
       "      <td>https://fedup.wpengine.com/wp-content/uploads/...</td>\n",
       "      <td></td>\n",
       "      <td>1</td>\n",
       "      <td>None</td>\n",
       "    </tr>\n",
       "    <tr>\n",
       "      <th>8909</th>\n",
       "      <td>https://fedup.wpengine.com/wp-content/uploads/...</td>\n",
       "      <td></td>\n",
       "      <td>1</td>\n",
       "      <td>None</td>\n",
       "    </tr>\n",
       "    <tr>\n",
       "      <th>11943</th>\n",
       "      <td>In obamaland...</td>\n",
       "      <td>obamaland</td>\n",
       "      <td>1</td>\n",
       "      <td>None</td>\n",
       "    </tr>\n",
       "    <tr>\n",
       "      <th>14238</th>\n",
       "      <td>https://fedup.wpengine.com/wp-content/uploads/...</td>\n",
       "      <td></td>\n",
       "      <td>1</td>\n",
       "      <td>None</td>\n",
       "    </tr>\n",
       "    <tr>\n",
       "      <th>26286</th>\n",
       "      <td>https://fedup.wpengine.com/wp-content/uploads/...</td>\n",
       "      <td></td>\n",
       "      <td>1</td>\n",
       "      <td>None</td>\n",
       "    </tr>\n",
       "    <tr>\n",
       "      <th>27236</th>\n",
       "      <td>https://fedup.wpengine.com/wp-content/uploads/...</td>\n",
       "      <td></td>\n",
       "      <td>1</td>\n",
       "      <td>None</td>\n",
       "    </tr>\n",
       "    <tr>\n",
       "      <th>31816</th>\n",
       "      <td>🙂</td>\n",
       "      <td></td>\n",
       "      <td>1</td>\n",
       "      <td>None</td>\n",
       "    </tr>\n",
       "    <tr>\n",
       "      <th>42774</th>\n",
       "      <td>https://100percentfedup.com/served-roy-moore-v...</td>\n",
       "      <td></td>\n",
       "      <td>1</td>\n",
       "      <td>None</td>\n",
       "    </tr>\n",
       "    <tr>\n",
       "      <th>44862</th>\n",
       "      <td>https://100percentfedup.com/12-yr-old-black-co...</td>\n",
       "      <td></td>\n",
       "      <td>1</td>\n",
       "      <td>None</td>\n",
       "    </tr>\n",
       "    <tr>\n",
       "      <th>52702</th>\n",
       "      <td>https://100percentfedup.com/video-hillary-aske...</td>\n",
       "      <td></td>\n",
       "      <td>1</td>\n",
       "      <td>None</td>\n",
       "    </tr>\n",
       "    <tr>\n",
       "      <th>52971</th>\n",
       "      <td>Horseshit</td>\n",
       "      <td>horseshit</td>\n",
       "      <td>1</td>\n",
       "      <td>None</td>\n",
       "    </tr>\n",
       "    <tr>\n",
       "      <th>58710</th>\n",
       "      <td>baldegar</td>\n",
       "      <td>baldegar</td>\n",
       "      <td>1</td>\n",
       "      <td>None</td>\n",
       "    </tr>\n",
       "    <tr>\n",
       "      <th>68385</th>\n",
       "      <td>https://fedup.wpengine.com/wp-content/uploads/...</td>\n",
       "      <td></td>\n",
       "      <td>1</td>\n",
       "      <td>None</td>\n",
       "    </tr>\n",
       "  </tbody>\n",
       "</table>\n",
       "</div>"
      ],
      "text/plain": [
       "                                               Full_text Full_text_cleaned  \\\n",
       "795    https://fedup.wpengine.com/wp-content/uploads/...                     \n",
       "8909   https://fedup.wpengine.com/wp-content/uploads/...                     \n",
       "11943                                    In obamaland...         obamaland   \n",
       "14238  https://fedup.wpengine.com/wp-content/uploads/...                     \n",
       "26286  https://fedup.wpengine.com/wp-content/uploads/...                     \n",
       "27236  https://fedup.wpengine.com/wp-content/uploads/...                     \n",
       "31816                                                  🙂                     \n",
       "42774  https://100percentfedup.com/served-roy-moore-v...                     \n",
       "44862  https://100percentfedup.com/12-yr-old-black-co...                     \n",
       "52702  https://100percentfedup.com/video-hillary-aske...                     \n",
       "52971                                          Horseshit         horseshit   \n",
       "58710                                           baldegar          baldegar   \n",
       "68385  https://fedup.wpengine.com/wp-content/uploads/...                     \n",
       "\n",
       "       label avg_embeddings  \n",
       "795        1           None  \n",
       "8909       1           None  \n",
       "11943      1           None  \n",
       "14238      1           None  \n",
       "26286      1           None  \n",
       "27236      1           None  \n",
       "31816      1           None  \n",
       "42774      1           None  \n",
       "44862      1           None  \n",
       "52702      1           None  \n",
       "52971      1           None  \n",
       "58710      1           None  \n",
       "68385      1           None  "
      ]
     },
     "execution_count": 81,
     "metadata": {},
     "output_type": "execute_result"
    }
   ],
   "source": [
    "data[data.avg_embeddings.isna()][['Full_text', 'Full_text_cleaned', 'label', 'avg_embeddings']]"
   ]
  },
  {
   "cell_type": "markdown",
   "id": "da292eac",
   "metadata": {
    "papermill": {
     "duration": 0.871845,
     "end_time": "2023-10-09T15:11:32.231721",
     "exception": false,
     "start_time": "2023-10-09T15:11:31.359876",
     "status": "completed"
    },
    "tags": []
   },
   "source": [
    "We see that they are either empty since they were URL links that have been cleared by the preprocessing phase (e.g. removing non alphanumeric terms, removing stopwords) or just trivial one word cases. We can remove them "
   ]
  },
  {
   "cell_type": "code",
   "execution_count": 82,
   "id": "017e85c0",
   "metadata": {
    "execution": {
     "iopub.execute_input": "2023-10-09T15:11:34.079601Z",
     "iopub.status.busy": "2023-10-09T15:11:34.078628Z",
     "iopub.status.idle": "2023-10-09T15:11:34.369946Z",
     "shell.execute_reply": "2023-10-09T15:11:34.369247Z"
    },
    "papermill": {
     "duration": 1.174224,
     "end_time": "2023-10-09T15:11:34.372185",
     "exception": false,
     "start_time": "2023-10-09T15:11:33.197961",
     "status": "completed"
    },
    "tags": []
   },
   "outputs": [
    {
     "name": "stdout",
     "output_type": "stream",
     "text": [
      "(72134, 6)\n",
      "(72121, 6)\n",
      "                                               title  \\\n",
      "0  LAW ENFORCEMENT ON HIGH ALERT Following Threat...   \n",
      "1                                                      \n",
      "2  UNBELIEVABLE! OBAMA’S ATTORNEY GENERAL SAYS MO...   \n",
      "3  Bobby Jindal, raised Hindu, uses story of Chri...   \n",
      "4  SATAN 2: Russia unvelis an image of its terrif...   \n",
      "\n",
      "                                                text  label  \\\n",
      "0  No comment is expected from Barack Obama Membe...      1   \n",
      "1     Did they post their votes for Hillary already?      1   \n",
      "2   Now, most of the demonstrators gathered last ...      1   \n",
      "3  A dozen politically active pastors came here f...      0   \n",
      "4  The RS-28 Sarmat missile, dubbed Satan 2, will...      1   \n",
      "\n",
      "                                           Full_text  \\\n",
      "0  LAW ENFORCEMENT ON HIGH ALERT Following Threat...   \n",
      "1     Did they post their votes for Hillary already?   \n",
      "2  UNBELIEVABLE! OBAMA’S ATTORNEY GENERAL SAYS MO...   \n",
      "3  Bobby Jindal, raised Hindu, uses story of Chri...   \n",
      "4  SATAN 2: Russia unvelis an image of its terrif...   \n",
      "\n",
      "                                   Full_text_cleaned  \\\n",
      "0  law enforcement high alert following threats c...   \n",
      "1                         post votes hillary already   \n",
      "2  unbelievable obama attorney general says charl...   \n",
      "3  bobby jindal raised hindu uses story christian...   \n",
      "4  satan russia unvelis image terrifying new supe...   \n",
      "\n",
      "                                      avg_embeddings  \n",
      "0  [-0.0035522666, 0.017193442, 0.03443514, -0.05...  \n",
      "1  [-0.05424866, 0.061816186, 0.076831594, -0.047...  \n",
      "2  [0.00246846, -0.011471947, 0.025755865, -0.034...  \n",
      "3  [0.0037696701, 0.03747781, 0.009596259, -0.039...  \n",
      "4  [-0.02298912, 0.023229027, 0.06078896, -0.0037...  \n"
     ]
    }
   ],
   "source": [
    "## Drop NAs/ Nones \n",
    "print(data.shape)\n",
    "print(data.dropna(subset = ['avg_embeddings']).shape) ## 13 removed \n",
    "\n",
    "## Drop \n",
    "data_no_nas = data.dropna(subset = ['avg_embeddings'])\n",
    "\n",
    "## Check\n",
    "print(data_no_nas.head())"
   ]
  },
  {
   "cell_type": "markdown",
   "id": "018e4bd7",
   "metadata": {
    "papermill": {
     "duration": 0.875659,
     "end_time": "2023-10-09T15:11:36.208067",
     "exception": false,
     "start_time": "2023-10-09T15:11:35.332408",
     "status": "completed"
    },
    "tags": []
   },
   "source": [
    "## Repeat modelling workflow : train test split and fitting on the new X vector embeddings data "
   ]
  },
  {
   "cell_type": "code",
   "execution_count": 83,
   "id": "46c4797f",
   "metadata": {
    "execution": {
     "iopub.execute_input": "2023-10-09T15:11:38.046290Z",
     "iopub.status.busy": "2023-10-09T15:11:38.045891Z",
     "iopub.status.idle": "2023-10-09T15:11:38.080623Z",
     "shell.execute_reply": "2023-10-09T15:11:38.079845Z"
    },
    "papermill": {
     "duration": 0.917668,
     "end_time": "2023-10-09T15:11:38.082696",
     "exception": false,
     "start_time": "2023-10-09T15:11:37.165028",
     "status": "completed"
    },
    "tags": []
   },
   "outputs": [
    {
     "name": "stdout",
     "output_type": "stream",
     "text": [
      "<class 'list'>\n",
      "<class 'pandas.core.series.Series'>\n"
     ]
    }
   ],
   "source": [
    "from sklearn.model_selection import train_test_split\n",
    "from sklearn.linear_model import LogisticRegression\n",
    "from sklearn.svm import LinearSVC\n",
    "from sklearn.ensemble import RandomForestClassifier\n",
    "from sklearn.metrics import classification_report\n",
    "\n",
    "## Rmb to use the data without nas, so that there is no inconsistency in the set of X vectors\n",
    "X = data_no_nas.avg_embeddings.to_list()\n",
    "\n",
    "y = data_no_nas['label']\n",
    "## Same train test split \n",
    "X_train, X_test, y_train, y_test = train_test_split(X, y, test_size=0.2, random_state=42)\n",
    "\n",
    "## Check if the data is prepared correctly/ in the right format \n",
    "print(type(X_train)) ## this is a list -- need to convert to np array\n",
    "print(type(y_train))"
   ]
  },
  {
   "cell_type": "markdown",
   "id": "f3973df4",
   "metadata": {
    "papermill": {
     "duration": 0.956151,
     "end_time": "2023-10-09T15:11:39.985702",
     "exception": false,
     "start_time": "2023-10-09T15:11:39.029551",
     "status": "completed"
    },
    "tags": []
   },
   "source": [
    "Currently, our X data is in the form of list of lists. In order to feed into the sklearn algorithms, we need to first convert it to 2D np arrays."
   ]
  },
  {
   "cell_type": "code",
   "execution_count": 84,
   "id": "ceb81dfb",
   "metadata": {
    "execution": {
     "iopub.execute_input": "2023-10-09T15:11:41.808134Z",
     "iopub.status.busy": "2023-10-09T15:11:41.807507Z",
     "iopub.status.idle": "2023-10-09T15:11:41.884866Z",
     "shell.execute_reply": "2023-10-09T15:11:41.883818Z"
    },
    "papermill": {
     "duration": 1.025565,
     "end_time": "2023-10-09T15:11:41.886961",
     "exception": false,
     "start_time": "2023-10-09T15:11:40.861396",
     "status": "completed"
    },
    "tags": []
   },
   "outputs": [
    {
     "name": "stdout",
     "output_type": "stream",
     "text": [
      "57696\n",
      "(57696, 100)\n",
      "(14425, 100)\n"
     ]
    }
   ],
   "source": [
    "print(len(X_train))\n",
    "\n",
    "## Convert to 2D np arrays\n",
    "X_train = np.array(X_train)\n",
    "X_test = np.array(X_test)\n",
    "\n",
    "## Check shape \n",
    "print(X_train.shape)\n",
    "print(X_test.shape) ## our data is now in 2D arrays, so it is okay"
   ]
  },
  {
   "cell_type": "code",
   "execution_count": 85,
   "id": "0b7eaa6d",
   "metadata": {
    "execution": {
     "iopub.execute_input": "2023-10-09T15:11:43.738704Z",
     "iopub.status.busy": "2023-10-09T15:11:43.737976Z",
     "iopub.status.idle": "2023-10-09T15:13:05.951259Z",
     "shell.execute_reply": "2023-10-09T15:13:05.950089Z"
    },
    "papermill": {
     "duration": 84.081059,
     "end_time": "2023-10-09T15:13:06.911927",
     "exception": false,
     "start_time": "2023-10-09T15:11:42.830868",
     "status": "completed"
    },
    "tags": []
   },
   "outputs": [
    {
     "name": "stdout",
     "output_type": "stream",
     "text": [
      "Time to fit logistic regression: 0.5133645534515381\n",
      "Time to fit SVM linear: 2.299941301345825\n",
      "Time to fit Random Forest: 79.39102792739868\n"
     ]
    }
   ],
   "source": [
    "# 1. Log Reg\n",
    "s = time.time()\n",
    "log_clf = LogisticRegression(max_iter=1000)\n",
    "log_clf.fit(X_train, y_train)\n",
    "time_for_logreg_glove = time.time() - s\n",
    "print(\"Time to fit logistic regression:\", time_for_logreg_glove)\n",
    "\n",
    "# 2. SVM Linear\n",
    "s = time.time()\n",
    "svm_linear_clf = LinearSVC(max_iter=1000)\n",
    "svm_linear_clf.fit(X_train, y_train)\n",
    "time_for_linear_svm_glove = time.time() - s\n",
    "print(\"Time to fit SVM linear:\", time_for_linear_svm_glove)\n",
    "\n",
    "\n",
    "# Random Forest\n",
    "s = time.time()\n",
    "rf_clf = RandomForestClassifier()\n",
    "rf_clf.fit(X_train, y_train)\n",
    "time_for_untuned_rf_glove = time.time() - s\n",
    "print(\"Time to fit Random Forest:\", time_for_untuned_rf_glove)"
   ]
  },
  {
   "cell_type": "markdown",
   "id": "11b60eba",
   "metadata": {
    "papermill": {
     "duration": 0.937658,
     "end_time": "2023-10-09T15:13:08.715474",
     "exception": false,
     "start_time": "2023-10-09T15:13:07.777816",
     "status": "completed"
    },
    "tags": []
   },
   "source": [
    "This is a significant improvement over some of the previous methods. This is possibly due to the smaller predictor space"
   ]
  },
  {
   "cell_type": "code",
   "execution_count": 86,
   "id": "b50896a3",
   "metadata": {
    "execution": {
     "iopub.execute_input": "2023-10-09T15:13:10.547257Z",
     "iopub.status.busy": "2023-10-09T15:13:10.546812Z",
     "iopub.status.idle": "2023-10-09T15:13:11.092730Z",
     "shell.execute_reply": "2023-10-09T15:13:11.091498Z"
    },
    "papermill": {
     "duration": 1.427831,
     "end_time": "2023-10-09T15:13:11.094816",
     "exception": false,
     "start_time": "2023-10-09T15:13:09.666985",
     "status": "completed"
    },
    "tags": []
   },
   "outputs": [
    {
     "name": "stdout",
     "output_type": "stream",
     "text": [
      "              precision    recall  f1-score   support\n",
      "\n",
      "           0       0.83      0.85      0.84      6882\n",
      "           1       0.86      0.84      0.85      7543\n",
      "\n",
      "    accuracy                           0.84     14425\n",
      "   macro avg       0.84      0.84      0.84     14425\n",
      "weighted avg       0.84      0.84      0.84     14425\n",
      "\n",
      "              precision    recall  f1-score   support\n",
      "\n",
      "           0       0.84      0.85      0.85      6958\n",
      "           1       0.86      0.85      0.86      7467\n",
      "\n",
      "    accuracy                           0.85     14425\n",
      "   macro avg       0.85      0.85      0.85     14425\n",
      "weighted avg       0.85      0.85      0.85     14425\n",
      "\n",
      "              precision    recall  f1-score   support\n",
      "\n",
      "           0       0.85      0.90      0.88      6642\n",
      "           1       0.91      0.87      0.89      7783\n",
      "\n",
      "    accuracy                           0.88     14425\n",
      "   macro avg       0.88      0.89      0.88     14425\n",
      "weighted avg       0.89      0.88      0.88     14425\n",
      "\n"
     ]
    }
   ],
   "source": [
    "## Model evaluations\n",
    "print(classification_report(log_clf.predict(X_test), y_test))\n",
    "print(classification_report(svm_linear_clf.predict(X_test), y_test))\n",
    "print(classification_report(rf_clf.predict(X_test), y_test))"
   ]
  },
  {
   "cell_type": "markdown",
   "id": "6ab8456f",
   "metadata": {
    "papermill": {
     "duration": 0.947633,
     "end_time": "2023-10-09T15:13:12.994932",
     "exception": false,
     "start_time": "2023-10-09T15:13:12.047299",
     "status": "completed"
    },
    "tags": []
   },
   "source": [
    "## Results of GloVe representations"
   ]
  },
  {
   "cell_type": "markdown",
   "id": "b7a7f0c1",
   "metadata": {
    "papermill": {
     "duration": 0.949199,
     "end_time": "2023-10-09T15:13:14.838449",
     "exception": false,
     "start_time": "2023-10-09T15:13:13.889250",
     "status": "completed"
    },
    "tags": []
   },
   "source": [
    "Although much faster to fit the models, we suffer quite a bit in terms of accuracy scores. \n",
    "\n",
    "### Nature of representation\n",
    "\n",
    "While BoW and TFIDF capture the occurance of words independently, the glove method we used essentially took the 'center' of the word embedded vectors of each text, since we took their average. This might end up cancelling out some of the meaning of the words, losing out on granularity. It is also possible that some of the words, which were crucial in determining the outcome of the text in being real or false news, were not in the vocabulary of the glove model and thus not factored into the data, which will cause a loss of importasnt information."
   ]
  },
  {
   "cell_type": "markdown",
   "id": "edd0b9dd",
   "metadata": {
    "papermill": {
     "duration": 0.951888,
     "end_time": "2023-10-09T15:13:16.659423",
     "exception": false,
     "start_time": "2023-10-09T15:13:15.707535",
     "status": "completed"
    },
    "tags": []
   },
   "source": [
    "# Converting text to sequences with Keras, with embedding layer in the neural network"
   ]
  },
  {
   "cell_type": "markdown",
   "id": "be482ebe",
   "metadata": {
    "papermill": {
     "duration": 0.872097,
     "end_time": "2023-10-09T15:13:18.480490",
     "exception": false,
     "start_time": "2023-10-09T15:13:17.608393",
     "status": "completed"
    },
    "tags": []
   },
   "source": [
    "How it works \n",
    "\n",
    "* integer encoding: the text_to_sequences method converts texts to integers based on the vocabulary of the corpus. \n",
    "\n",
    "* we then have a **sequence of integers** (text to sequences), since models cannot understand words but only numbers \n",
    "\n",
    "* we pad each vector such that there is a consistent number of integers \n",
    "\n",
    "* the first layer of the neural network will be the embedding layer, which is a special kind of layer that *looks up each integer (word index) and maps it to a dense vector*, which is the semantic representation, same as the one we used with GloVe. \n",
    "\n",
    "* then we connect to a fully connected layer, where the last layer will be a single neuron with a sigmoid activation function - since we are making a binary classification"
   ]
  },
  {
   "cell_type": "code",
   "execution_count": 87,
   "id": "427083a0",
   "metadata": {
    "execution": {
     "iopub.execute_input": "2023-10-09T15:13:20.296159Z",
     "iopub.status.busy": "2023-10-09T15:13:20.295079Z",
     "iopub.status.idle": "2023-10-09T15:13:20.302554Z",
     "shell.execute_reply": "2023-10-09T15:13:20.301548Z"
    },
    "papermill": {
     "duration": 0.877217,
     "end_time": "2023-10-09T15:13:20.304829",
     "exception": false,
     "start_time": "2023-10-09T15:13:19.427612",
     "status": "completed"
    },
    "tags": []
   },
   "outputs": [],
   "source": [
    "from tensorflow.keras.preprocessing.text import Tokenizer\n",
    "from tensorflow.keras.preprocessing.sequence import pad_sequences"
   ]
  },
  {
   "cell_type": "code",
   "execution_count": 88,
   "id": "a417c685",
   "metadata": {
    "execution": {
     "iopub.execute_input": "2023-10-09T15:13:22.207363Z",
     "iopub.status.busy": "2023-10-09T15:13:22.206695Z",
     "iopub.status.idle": "2023-10-09T15:13:22.210798Z",
     "shell.execute_reply": "2023-10-09T15:13:22.210061Z"
    },
    "papermill": {
     "duration": 0.960669,
     "end_time": "2023-10-09T15:13:22.212722",
     "exception": false,
     "start_time": "2023-10-09T15:13:21.252053",
     "status": "completed"
    },
    "tags": []
   },
   "outputs": [],
   "source": [
    "## Instantiate the keras tokenizer\n",
    "\n",
    "tokenizer = Tokenizer(num_words=10000, oov_token = '<00v>') ## this is for out of vocab\n",
    "## terms -- therefore when testing, if the model sees a word that has not been trained, \n",
    "## it will map it to 1 instead of removing the term "
   ]
  },
  {
   "cell_type": "code",
   "execution_count": 89,
   "id": "81bc6921",
   "metadata": {
    "execution": {
     "iopub.execute_input": "2023-10-09T15:13:24.069926Z",
     "iopub.status.busy": "2023-10-09T15:13:24.068865Z",
     "iopub.status.idle": "2023-10-09T15:13:44.809449Z",
     "shell.execute_reply": "2023-10-09T15:13:44.808323Z"
    },
    "papermill": {
     "duration": 21.719662,
     "end_time": "2023-10-09T15:13:44.811693",
     "exception": false,
     "start_time": "2023-10-09T15:13:23.092031",
     "status": "completed"
    },
    "tags": []
   },
   "outputs": [],
   "source": [
    "## Fit the tokenizer to the corpus \n",
    "tokenizer.fit_on_texts(data.Full_text_cleaned) ## use fit on texts method as we have a series or list of texts\n",
    "word_index = tokenizer.word_index"
   ]
  },
  {
   "cell_type": "markdown",
   "id": "39d763d0",
   "metadata": {
    "papermill": {
     "duration": 0.871686,
     "end_time": "2023-10-09T15:13:46.627855",
     "exception": false,
     "start_time": "2023-10-09T15:13:45.756169",
     "status": "completed"
    },
    "tags": []
   },
   "source": [
    "From this [stackoverflow answer](http://https://stackoverflow.com/questions/51956000/what-does-keras-tokenizer-method-exactly-do), the fit on text method updates the internal vocab based on a list of texts, creating a vocab index based on word frequency, then the texts to sequences transforms each text in texts to a sequence of inters. "
   ]
  }
 ],
 "metadata": {
  "kernelspec": {
   "display_name": "Python 3",
   "language": "python",
   "name": "python3"
  },
  "language_info": {
   "codemirror_mode": {
    "name": "ipython",
    "version": 3
   },
   "file_extension": ".py",
   "mimetype": "text/x-python",
   "name": "python",
   "nbconvert_exporter": "python",
   "pygments_lexer": "ipython3",
   "version": "3.10.12"
  },
  "papermill": {
   "default_parameters": {},
   "duration": 2997.783688,
   "end_time": "2023-10-09T15:13:50.798450",
   "environment_variables": {},
   "exception": null,
   "input_path": "__notebook__.ipynb",
   "output_path": "__notebook__.ipynb",
   "parameters": {},
   "start_time": "2023-10-09T14:23:53.014762",
   "version": "2.4.0"
  },
  "widgets": {
   "application/vnd.jupyter.widget-state+json": {
    "state": {
     "2024f5c78d4341b2ae1f0245a2613ccb": {
      "model_module": "@jupyter-widgets/controls",
      "model_module_version": "1.5.0",
      "model_name": "LabelModel",
      "state": {
       "_dom_classes": [],
       "_model_module": "@jupyter-widgets/controls",
       "_model_module_version": "1.5.0",
       "_model_name": "LabelModel",
       "_view_count": null,
       "_view_module": "@jupyter-widgets/controls",
       "_view_module_version": "1.5.0",
       "_view_name": "LabelView",
       "description": "",
       "description_tooltip": null,
       "layout": "IPY_MODEL_39a9a921fd6c48828f1c5295552a2043",
       "placeholder": "​",
       "style": "IPY_MODEL_ef0d6c4563d1426c9b8e1cf880ee1e45",
       "value": "36067 / 36067"
      }
     },
     "2dd80e8432fb4aeda4f923cfddc0aaa4": {
      "model_module": "@jupyter-widgets/base",
      "model_module_version": "1.2.0",
      "model_name": "LayoutModel",
      "state": {
       "_model_module": "@jupyter-widgets/base",
       "_model_module_version": "1.2.0",
       "_model_name": "LayoutModel",
       "_view_count": null,
       "_view_module": "@jupyter-widgets/base",
       "_view_module_version": "1.2.0",
       "_view_name": "LayoutView",
       "align_content": null,
       "align_items": null,
       "align_self": null,
       "border": null,
       "bottom": null,
       "display": null,
       "flex": null,
       "flex_flow": null,
       "grid_area": null,
       "grid_auto_columns": null,
       "grid_auto_flow": null,
       "grid_auto_rows": null,
       "grid_column": null,
       "grid_gap": null,
       "grid_row": null,
       "grid_template_areas": null,
       "grid_template_columns": null,
       "grid_template_rows": null,
       "height": null,
       "justify_content": null,
       "justify_items": null,
       "left": null,
       "margin": null,
       "max_height": null,
       "max_width": null,
       "min_height": null,
       "min_width": null,
       "object_fit": null,
       "object_position": null,
       "order": null,
       "overflow": null,
       "overflow_x": null,
       "overflow_y": null,
       "padding": null,
       "right": null,
       "top": null,
       "visibility": null,
       "width": null
      }
     },
     "39a9a921fd6c48828f1c5295552a2043": {
      "model_module": "@jupyter-widgets/base",
      "model_module_version": "1.2.0",
      "model_name": "LayoutModel",
      "state": {
       "_model_module": "@jupyter-widgets/base",
       "_model_module_version": "1.2.0",
       "_model_name": "LayoutModel",
       "_view_count": null,
       "_view_module": "@jupyter-widgets/base",
       "_view_module_version": "1.2.0",
       "_view_name": "LayoutView",
       "align_content": null,
       "align_items": null,
       "align_self": null,
       "border": null,
       "bottom": null,
       "display": null,
       "flex": null,
       "flex_flow": null,
       "grid_area": null,
       "grid_auto_columns": null,
       "grid_auto_flow": null,
       "grid_auto_rows": null,
       "grid_column": null,
       "grid_gap": null,
       "grid_row": null,
       "grid_template_areas": null,
       "grid_template_columns": null,
       "grid_template_rows": null,
       "height": null,
       "justify_content": null,
       "justify_items": null,
       "left": null,
       "margin": null,
       "max_height": null,
       "max_width": null,
       "min_height": null,
       "min_width": null,
       "object_fit": null,
       "object_position": null,
       "order": null,
       "overflow": null,
       "overflow_x": null,
       "overflow_y": null,
       "padding": null,
       "right": null,
       "top": null,
       "visibility": null,
       "width": null
      }
     },
     "471159fa00284f5089e979dedc03ba2c": {
      "model_module": "@jupyter-widgets/base",
      "model_module_version": "1.2.0",
      "model_name": "LayoutModel",
      "state": {
       "_model_module": "@jupyter-widgets/base",
       "_model_module_version": "1.2.0",
       "_model_name": "LayoutModel",
       "_view_count": null,
       "_view_module": "@jupyter-widgets/base",
       "_view_module_version": "1.2.0",
       "_view_name": "LayoutView",
       "align_content": null,
       "align_items": null,
       "align_self": null,
       "border": null,
       "bottom": null,
       "display": null,
       "flex": null,
       "flex_flow": null,
       "grid_area": null,
       "grid_auto_columns": null,
       "grid_auto_flow": null,
       "grid_auto_rows": null,
       "grid_column": null,
       "grid_gap": null,
       "grid_row": null,
       "grid_template_areas": null,
       "grid_template_columns": null,
       "grid_template_rows": null,
       "height": null,
       "justify_content": null,
       "justify_items": null,
       "left": null,
       "margin": null,
       "max_height": null,
       "max_width": null,
       "min_height": null,
       "min_width": null,
       "object_fit": null,
       "object_position": null,
       "order": null,
       "overflow": null,
       "overflow_x": null,
       "overflow_y": null,
       "padding": null,
       "right": null,
       "top": null,
       "visibility": null,
       "width": null
      }
     },
     "4a49e2f5ce6241909edd180876a67a49": {
      "model_module": "@jupyter-widgets/controls",
      "model_module_version": "1.5.0",
      "model_name": "VBoxModel",
      "state": {
       "_dom_classes": [],
       "_model_module": "@jupyter-widgets/controls",
       "_model_module_version": "1.5.0",
       "_model_name": "VBoxModel",
       "_view_count": null,
       "_view_module": "@jupyter-widgets/controls",
       "_view_module_version": "1.5.0",
       "_view_name": "VBoxView",
       "box_style": "",
       "children": [
        "IPY_MODEL_9083945b687443ce94089869dee073e7",
        "IPY_MODEL_69ec73f77e2d492baa4629a59e5cf278"
       ],
       "layout": "IPY_MODEL_e830b1aae231413a988d88580f5f50c4"
      }
     },
     "575717dc841b4d0aba116ad9dd33a01f": {
      "model_module": "@jupyter-widgets/controls",
      "model_module_version": "1.5.0",
      "model_name": "IntProgressModel",
      "state": {
       "_dom_classes": [],
       "_model_module": "@jupyter-widgets/controls",
       "_model_module_version": "1.5.0",
       "_model_name": "IntProgressModel",
       "_view_count": null,
       "_view_module": "@jupyter-widgets/controls",
       "_view_module_version": "1.5.0",
       "_view_name": "ProgressView",
       "bar_style": "success",
       "description": "100.00%",
       "description_tooltip": null,
       "layout": "IPY_MODEL_2dd80e8432fb4aeda4f923cfddc0aaa4",
       "max": 36067,
       "min": 0,
       "orientation": "horizontal",
       "style": "IPY_MODEL_a780b0afda2e4b159e956b44790bd3b4",
       "value": 36067
      }
     },
     "622d5dd9e128479d9afd3eb29af7d064": {
      "model_module": "@jupyter-widgets/controls",
      "model_module_version": "1.5.0",
      "model_name": "ProgressStyleModel",
      "state": {
       "_model_module": "@jupyter-widgets/controls",
       "_model_module_version": "1.5.0",
       "_model_name": "ProgressStyleModel",
       "_view_count": null,
       "_view_module": "@jupyter-widgets/base",
       "_view_module_version": "1.2.0",
       "_view_name": "StyleView",
       "bar_color": null,
       "description_width": ""
      }
     },
     "68a9086453cb484d907784c5505b8d12": {
      "model_module": "@jupyter-widgets/controls",
      "model_module_version": "1.5.0",
      "model_name": "IntProgressModel",
      "state": {
       "_dom_classes": [],
       "_model_module": "@jupyter-widgets/controls",
       "_model_module_version": "1.5.0",
       "_model_name": "IntProgressModel",
       "_view_count": null,
       "_view_module": "@jupyter-widgets/controls",
       "_view_module_version": "1.5.0",
       "_view_name": "ProgressView",
       "bar_style": "success",
       "description": "100.00%",
       "description_tooltip": null,
       "layout": "IPY_MODEL_d3ef7f6914584f53bc509b3825728a1f",
       "max": 36067,
       "min": 0,
       "orientation": "horizontal",
       "style": "IPY_MODEL_622d5dd9e128479d9afd3eb29af7d064",
       "value": 36067
      }
     },
     "69ec73f77e2d492baa4629a59e5cf278": {
      "model_module": "@jupyter-widgets/controls",
      "model_module_version": "1.5.0",
      "model_name": "HBoxModel",
      "state": {
       "_dom_classes": [],
       "_model_module": "@jupyter-widgets/controls",
       "_model_module_version": "1.5.0",
       "_model_name": "HBoxModel",
       "_view_count": null,
       "_view_module": "@jupyter-widgets/controls",
       "_view_module_version": "1.5.0",
       "_view_name": "HBoxView",
       "box_style": "",
       "children": [
        "IPY_MODEL_575717dc841b4d0aba116ad9dd33a01f",
        "IPY_MODEL_2024f5c78d4341b2ae1f0245a2613ccb"
       ],
       "layout": "IPY_MODEL_b266859af2ad4ae0a4585ceb8a7d13da"
      }
     },
     "6b23b5695fbb4b2b8db3dac530849427": {
      "model_module": "@jupyter-widgets/base",
      "model_module_version": "1.2.0",
      "model_name": "LayoutModel",
      "state": {
       "_model_module": "@jupyter-widgets/base",
       "_model_module_version": "1.2.0",
       "_model_name": "LayoutModel",
       "_view_count": null,
       "_view_module": "@jupyter-widgets/base",
       "_view_module_version": "1.2.0",
       "_view_name": "LayoutView",
       "align_content": null,
       "align_items": null,
       "align_self": null,
       "border": null,
       "bottom": null,
       "display": null,
       "flex": null,
       "flex_flow": null,
       "grid_area": null,
       "grid_auto_columns": null,
       "grid_auto_flow": null,
       "grid_auto_rows": null,
       "grid_column": null,
       "grid_gap": null,
       "grid_row": null,
       "grid_template_areas": null,
       "grid_template_columns": null,
       "grid_template_rows": null,
       "height": null,
       "justify_content": null,
       "justify_items": null,
       "left": null,
       "margin": null,
       "max_height": null,
       "max_width": null,
       "min_height": null,
       "min_width": null,
       "object_fit": null,
       "object_position": null,
       "order": null,
       "overflow": null,
       "overflow_x": null,
       "overflow_y": null,
       "padding": null,
       "right": null,
       "top": null,
       "visibility": null,
       "width": null
      }
     },
     "6c63a2f23c8047dba905b00fa8b64092": {
      "model_module": "@jupyter-widgets/controls",
      "model_module_version": "1.5.0",
      "model_name": "DescriptionStyleModel",
      "state": {
       "_model_module": "@jupyter-widgets/controls",
       "_model_module_version": "1.5.0",
       "_model_name": "DescriptionStyleModel",
       "_view_count": null,
       "_view_module": "@jupyter-widgets/base",
       "_view_module_version": "1.2.0",
       "_view_name": "StyleView",
       "description_width": ""
      }
     },
     "9083945b687443ce94089869dee073e7": {
      "model_module": "@jupyter-widgets/controls",
      "model_module_version": "1.5.0",
      "model_name": "HBoxModel",
      "state": {
       "_dom_classes": [],
       "_model_module": "@jupyter-widgets/controls",
       "_model_module_version": "1.5.0",
       "_model_name": "HBoxModel",
       "_view_count": null,
       "_view_module": "@jupyter-widgets/controls",
       "_view_module_version": "1.5.0",
       "_view_name": "HBoxView",
       "box_style": "",
       "children": [
        "IPY_MODEL_68a9086453cb484d907784c5505b8d12",
        "IPY_MODEL_f1009bba14054397bb1b1f755017e7ee"
       ],
       "layout": "IPY_MODEL_6b23b5695fbb4b2b8db3dac530849427"
      }
     },
     "a780b0afda2e4b159e956b44790bd3b4": {
      "model_module": "@jupyter-widgets/controls",
      "model_module_version": "1.5.0",
      "model_name": "ProgressStyleModel",
      "state": {
       "_model_module": "@jupyter-widgets/controls",
       "_model_module_version": "1.5.0",
       "_model_name": "ProgressStyleModel",
       "_view_count": null,
       "_view_module": "@jupyter-widgets/base",
       "_view_module_version": "1.2.0",
       "_view_name": "StyleView",
       "bar_color": null,
       "description_width": ""
      }
     },
     "b266859af2ad4ae0a4585ceb8a7d13da": {
      "model_module": "@jupyter-widgets/base",
      "model_module_version": "1.2.0",
      "model_name": "LayoutModel",
      "state": {
       "_model_module": "@jupyter-widgets/base",
       "_model_module_version": "1.2.0",
       "_model_name": "LayoutModel",
       "_view_count": null,
       "_view_module": "@jupyter-widgets/base",
       "_view_module_version": "1.2.0",
       "_view_name": "LayoutView",
       "align_content": null,
       "align_items": null,
       "align_self": null,
       "border": null,
       "bottom": null,
       "display": null,
       "flex": null,
       "flex_flow": null,
       "grid_area": null,
       "grid_auto_columns": null,
       "grid_auto_flow": null,
       "grid_auto_rows": null,
       "grid_column": null,
       "grid_gap": null,
       "grid_row": null,
       "grid_template_areas": null,
       "grid_template_columns": null,
       "grid_template_rows": null,
       "height": null,
       "justify_content": null,
       "justify_items": null,
       "left": null,
       "margin": null,
       "max_height": null,
       "max_width": null,
       "min_height": null,
       "min_width": null,
       "object_fit": null,
       "object_position": null,
       "order": null,
       "overflow": null,
       "overflow_x": null,
       "overflow_y": null,
       "padding": null,
       "right": null,
       "top": null,
       "visibility": null,
       "width": null
      }
     },
     "d3ef7f6914584f53bc509b3825728a1f": {
      "model_module": "@jupyter-widgets/base",
      "model_module_version": "1.2.0",
      "model_name": "LayoutModel",
      "state": {
       "_model_module": "@jupyter-widgets/base",
       "_model_module_version": "1.2.0",
       "_model_name": "LayoutModel",
       "_view_count": null,
       "_view_module": "@jupyter-widgets/base",
       "_view_module_version": "1.2.0",
       "_view_name": "LayoutView",
       "align_content": null,
       "align_items": null,
       "align_self": null,
       "border": null,
       "bottom": null,
       "display": null,
       "flex": null,
       "flex_flow": null,
       "grid_area": null,
       "grid_auto_columns": null,
       "grid_auto_flow": null,
       "grid_auto_rows": null,
       "grid_column": null,
       "grid_gap": null,
       "grid_row": null,
       "grid_template_areas": null,
       "grid_template_columns": null,
       "grid_template_rows": null,
       "height": null,
       "justify_content": null,
       "justify_items": null,
       "left": null,
       "margin": null,
       "max_height": null,
       "max_width": null,
       "min_height": null,
       "min_width": null,
       "object_fit": null,
       "object_position": null,
       "order": null,
       "overflow": null,
       "overflow_x": null,
       "overflow_y": null,
       "padding": null,
       "right": null,
       "top": null,
       "visibility": null,
       "width": null
      }
     },
     "e830b1aae231413a988d88580f5f50c4": {
      "model_module": "@jupyter-widgets/base",
      "model_module_version": "1.2.0",
      "model_name": "LayoutModel",
      "state": {
       "_model_module": "@jupyter-widgets/base",
       "_model_module_version": "1.2.0",
       "_model_name": "LayoutModel",
       "_view_count": null,
       "_view_module": "@jupyter-widgets/base",
       "_view_module_version": "1.2.0",
       "_view_name": "LayoutView",
       "align_content": null,
       "align_items": null,
       "align_self": null,
       "border": null,
       "bottom": null,
       "display": null,
       "flex": null,
       "flex_flow": null,
       "grid_area": null,
       "grid_auto_columns": null,
       "grid_auto_flow": null,
       "grid_auto_rows": null,
       "grid_column": null,
       "grid_gap": null,
       "grid_row": null,
       "grid_template_areas": null,
       "grid_template_columns": null,
       "grid_template_rows": null,
       "height": null,
       "justify_content": null,
       "justify_items": null,
       "left": null,
       "margin": null,
       "max_height": null,
       "max_width": null,
       "min_height": null,
       "min_width": null,
       "object_fit": null,
       "object_position": null,
       "order": null,
       "overflow": null,
       "overflow_x": null,
       "overflow_y": null,
       "padding": null,
       "right": null,
       "top": null,
       "visibility": null,
       "width": null
      }
     },
     "ef0d6c4563d1426c9b8e1cf880ee1e45": {
      "model_module": "@jupyter-widgets/controls",
      "model_module_version": "1.5.0",
      "model_name": "DescriptionStyleModel",
      "state": {
       "_model_module": "@jupyter-widgets/controls",
       "_model_module_version": "1.5.0",
       "_model_name": "DescriptionStyleModel",
       "_view_count": null,
       "_view_module": "@jupyter-widgets/base",
       "_view_module_version": "1.2.0",
       "_view_name": "StyleView",
       "description_width": ""
      }
     },
     "f1009bba14054397bb1b1f755017e7ee": {
      "model_module": "@jupyter-widgets/controls",
      "model_module_version": "1.5.0",
      "model_name": "LabelModel",
      "state": {
       "_dom_classes": [],
       "_model_module": "@jupyter-widgets/controls",
       "_model_module_version": "1.5.0",
       "_model_name": "LabelModel",
       "_view_count": null,
       "_view_module": "@jupyter-widgets/controls",
       "_view_module_version": "1.5.0",
       "_view_name": "LabelView",
       "description": "",
       "description_tooltip": null,
       "layout": "IPY_MODEL_471159fa00284f5089e979dedc03ba2c",
       "placeholder": "​",
       "style": "IPY_MODEL_6c63a2f23c8047dba905b00fa8b64092",
       "value": "36067 / 36067"
      }
     }
    },
    "version_major": 2,
    "version_minor": 0
   }
  }
 },
 "nbformat": 4,
 "nbformat_minor": 5
}
